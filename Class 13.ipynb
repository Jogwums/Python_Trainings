{
 "cells": [
  {
   "cell_type": "code",
   "execution_count": 1,
   "metadata": {},
   "outputs": [],
   "source": [
    "#Python 3 Questions "
   ]
  },
  {
   "cell_type": "code",
   "execution_count": 3,
   "metadata": {},
   "outputs": [
    {
     "name": "stdout",
     "output_type": "stream",
     "text": [
      "['cat', 'squirrel', 'dog', 'pig', 'lion', 'mouse', 'monkey', 'elephant', 'fox', 'panda', 'kangaroo', 'cow', 'leopard', 'coyote', 'hedgehog']\n",
      "This is the list of animals: ['cat', 'squirrel', 'dog', 'pig', 'lion', 'mouse', 'monkey', 'elephant', 'fox', 'panda', 'kangaroo', 'cow', 'leopard', 'coyote', 'hedgehog']\n",
      "This is the number of characters in each word: [3, 8, 3, 3, 4, 5, 6, 8, 3, 5, 8, 3, 7, 6, 8]\n",
      "This is the total number of words in the list: 15\n",
      "This is the average no of characters per word:  5.33\n",
      "These words are larger than the average char length:  squirrel\n",
      "These words are larger than the average char length:  monkey\n",
      "These words are larger than the average char length:  elephant\n",
      "These words are larger than the average char length:  kangaroo\n",
      "These words are larger than the average char length:  leopard\n",
      "These words are larger than the average char length:  coyote\n",
      "These words are larger than the average char length:  hedgehog\n"
     ]
    }
   ],
   "source": [
    "#Problem 1\n",
    "\n",
    "list1 = [line.rstrip() for line in open('./stdin.txt')]\n",
    "\n",
    "print(list1)\n",
    "\n",
    "\n",
    "#stdin = [\"cat\",\"squirrel\",\"dog\",\"pig\",\"lion\", \"mouse\", \"monkey\",\"elephant\",\"fox\",\"panda\",\"kangaroo\",\"cow\", \"leopard\",\"coyote\",\"hedgehog\"]\n",
    "\n",
    "avg = []\n",
    "\n",
    "n = len(list1)\n",
    "\n",
    "for item in list1[:]:\n",
    "    avg.append((len(item)))\n",
    "    \n",
    "print(\"This is the list of animals:\", list1)\n",
    "print(\"This is the number of characters in each word:\",avg)\n",
    "print(\"This is the total number of words in the list:\",n)\n",
    "\n",
    "\n",
    "average = round(sum(avg)/n, 2)\n",
    "\n",
    "print(\"This is the average no of characters per word: \",average)\n",
    "\n",
    "for item in list1[:]:\n",
    "    if len(item) > average:\n",
    "        print(\"These words are larger than the average char length: \", item)"
   ]
  },
  {
   "cell_type": "code",
   "execution_count": 4,
   "metadata": {},
   "outputs": [],
   "source": [
    "\n",
    "#GUI Calculator \n",
    "\n",
    "import tkinter\n",
    "from tkinter import *\n",
    "\n",
    "def iCalc(source, side):\n",
    "    storeObj = Frame(source, borderwidth=4, bd=4, bg=\"powder blue\")\n",
    "    storeObj.pack(side=side, expand=YES, fill=BOTH)\n",
    "    return storeObj\n",
    "\n",
    "def button(source, side, text, command=None):\n",
    "    storeObj = Button(source, text=text, command=command)\n",
    "    storeObj.pack(side=side, expand=YES, fill=BOTH)\n",
    "    return storeObj\n",
    "\n",
    "class app(Frame):\n",
    "    def __init__(self):\n",
    "        Frame.__init__(self)\n",
    "        self.option_add('*font', 'arial 20 bold')\n",
    "        self.pack(expand=YES, fill=BOTH)\n",
    "        self.master.title('GUI Calculator')\n",
    "        \n",
    "        #Add a display widget \n",
    "        display = StringVar()\n",
    "        Entry(self, relief=RIDGE, textvariable=display, justify='right', bd=30, bg=\"powder blue\").pack(side=TOP, expand=YES, fill=BOTH)\n",
    "        \n",
    "        #add a clear button widget\n",
    "        for clearButton in ([\"Clear\"]):\n",
    "            erase = iCalc(self, TOP)\n",
    "            for ichar in clearButton:\n",
    "                button(erase, LEFT, ichar, lambda storeObj=display, q=ichar:storeObj.set(''))\n",
    "        \n",
    "        \n",
    "        #add a numberpad \n",
    "        for numButton in (\"789/\", \"456*\", \"123-\", \"0.+\"):\n",
    "            FunctionNum = iCalc(self, TOP)\n",
    "            for iEquals in numButton:\n",
    "                button(FunctionNum, LEFT, iEquals, lambda storeObj=display, q=iEquals: storeObj.set(storeObj.get() + q))\n",
    "        \n",
    "        #add Equal to button\n",
    "        EqualButton = iCalc(self, TOP)\n",
    "        for iEquals in \"=\":\n",
    "            if iEquals == \"=\":\n",
    "                btniEquals = button(EqualButton, LEFT, iEquals)\n",
    "                btniEquals.bind('<ButtonRelease-1>', lambda e, s=self, storeObj=display: s.calc(storeObj), '+')\n",
    "                \n",
    "            else:\n",
    "                btniEquals = button(EqualButton, LEFT, iEquals, lambda storeObj=display, s=' %s ' % iEquals: storeObj.set(\n",
    "                storeObj.get() +s))\n",
    "                \n",
    "    def calc(self, display):\n",
    "        try:\n",
    "            display.set(eval(display.get()))\n",
    "        except:\n",
    "            display.set(\"ERROR\")\n",
    "                \n",
    "            \n",
    "        \n",
    "#start the gui\n",
    "if __name__ == '__main__':\n",
    "    app().mainloop() "
   ]
  },
  {
   "cell_type": "markdown",
   "metadata": {},
   "source": [
    "# Try and Except in Python "
   ]
  },
  {
   "cell_type": "code",
   "execution_count": 5,
   "metadata": {},
   "outputs": [],
   "source": [
    "#This is used for error handling or exception handling\n",
    "\n",
    "#There are 3 blocks:\n",
    "\n",
    "#The try block : lets you test a block of code for errors\n",
    "\n",
    "#The except block: lets you handle errors\n",
    "\n",
    "#THe finally block : lets you execute code, regardless of the result of try-except blocks.\n",
    "\n",
    "\n"
   ]
  },
  {
   "cell_type": "code",
   "execution_count": 11,
   "metadata": {},
   "outputs": [
    {
     "name": "stdout",
     "output_type": "stream",
     "text": [
      "This statement is incomplete\n"
     ]
    }
   ],
   "source": [
    "#Example\n",
    "try:\n",
    "    print(x)\n",
    "except:\n",
    "    print(\"This statement is incomplete\")"
   ]
  },
  {
   "cell_type": "code",
   "execution_count": 16,
   "metadata": {},
   "outputs": [
    {
     "name": "stdout",
     "output_type": "stream",
     "text": [
      "It's a type error\n"
     ]
    }
   ],
   "source": [
    "a = 20\n",
    "b = 'Jt'\n",
    "try:\n",
    "    print(a+b)\n",
    "except NameError:\n",
    "    print(\"Variable a and b are not defined\")\n",
    "except TypeError:\n",
    "    print(\"It's a type error\")\n",
    "except:\n",
    "    print(\"Something else\")"
   ]
  },
  {
   "cell_type": "code",
   "execution_count": 17,
   "metadata": {},
   "outputs": [
    {
     "name": "stdout",
     "output_type": "stream",
     "text": [
      "Hello\n",
      "Nothing went wrong\n"
     ]
    }
   ],
   "source": [
    "#If no errors are raised we can use the else keyword to define a block of code to be executed\n",
    "\n",
    "\n",
    "try:\n",
    "    print(\"Hello\")\n",
    "except:\n",
    "    print(\"Something went wrong\")\n",
    "else:\n",
    "    print(\"Nothing went wrong\")"
   ]
  },
  {
   "cell_type": "code",
   "execution_count": 18,
   "metadata": {},
   "outputs": [
    {
     "name": "stdout",
     "output_type": "stream",
     "text": [
      "something went wrong\n",
      "The \"try-except\" is finished\n"
     ]
    }
   ],
   "source": [
    "#Finally block\n",
    "#This block will be executed, whether the try block raises an error or not \n",
    "\n",
    "#Example\n",
    "\n",
    "try:\n",
    "    print(x)\n",
    "except:\n",
    "    print(\"something went wrong\")\n",
    "finally:\n",
    "    print('The \"try-except\" is finished' )\n",
    "    \n",
    "    "
   ]
  },
  {
   "cell_type": "code",
   "execution_count": 19,
   "metadata": {},
   "outputs": [
    {
     "name": "stdout",
     "output_type": "stream",
     "text": [
      "Something went wrong when writing to the file\n"
     ]
    },
    {
     "ename": "NameError",
     "evalue": "name 'f' is not defined",
     "output_type": "error",
     "traceback": [
      "\u001b[1;31m---------------------------------------------------------------------------\u001b[0m",
      "\u001b[1;31mNameError\u001b[0m                                 Traceback (most recent call last)",
      "\u001b[1;32m<ipython-input-19-f1c8f4a641cc>\u001b[0m in \u001b[0;36m<module>\u001b[1;34m\u001b[0m\n\u001b[0;32m      9\u001b[0m     \u001b[0mprint\u001b[0m\u001b[1;33m(\u001b[0m\u001b[1;34m\"Something went wrong when writing to the file\"\u001b[0m\u001b[1;33m)\u001b[0m\u001b[1;33m\u001b[0m\u001b[1;33m\u001b[0m\u001b[0m\n\u001b[0;32m     10\u001b[0m \u001b[1;32mfinally\u001b[0m\u001b[1;33m:\u001b[0m\u001b[1;33m\u001b[0m\u001b[1;33m\u001b[0m\u001b[0m\n\u001b[1;32m---> 11\u001b[1;33m     \u001b[0mf\u001b[0m\u001b[1;33m.\u001b[0m\u001b[0mclose\u001b[0m\u001b[1;33m(\u001b[0m\u001b[1;33m)\u001b[0m\u001b[1;33m\u001b[0m\u001b[1;33m\u001b[0m\u001b[0m\n\u001b[0m",
      "\u001b[1;31mNameError\u001b[0m: name 'f' is not defined"
     ]
    }
   ],
   "source": [
    "#Finally block can be useful, to close files \n",
    "\n",
    "#Example\n",
    "\n",
    "try:\n",
    "    f = open(\"demofile.txt\")\n",
    "    f.write(\"This is a new file\")\n",
    "except:\n",
    "    print(\"Something went wrong when writing to the file\")\n",
    "finally:\n",
    "    f.close()"
   ]
  },
  {
   "cell_type": "code",
   "execution_count": 20,
   "metadata": {},
   "outputs": [
    {
     "ename": "Exception",
     "evalue": "Sorry no numbers below zero allowed",
     "output_type": "error",
     "traceback": [
      "\u001b[1;31m---------------------------------------------------------------------------\u001b[0m",
      "\u001b[1;31mException\u001b[0m                                 Traceback (most recent call last)",
      "\u001b[1;32m<ipython-input-20-914ef0424c56>\u001b[0m in \u001b[0;36m<module>\u001b[1;34m\u001b[0m\n\u001b[0;32m      7\u001b[0m \u001b[1;33m\u001b[0m\u001b[0m\n\u001b[0;32m      8\u001b[0m \u001b[1;32mif\u001b[0m \u001b[0mx\u001b[0m\u001b[1;33m<\u001b[0m\u001b[1;36m0\u001b[0m\u001b[1;33m:\u001b[0m\u001b[1;33m\u001b[0m\u001b[1;33m\u001b[0m\u001b[0m\n\u001b[1;32m----> 9\u001b[1;33m     \u001b[1;32mraise\u001b[0m \u001b[0mException\u001b[0m\u001b[1;33m(\u001b[0m\u001b[1;34m\"Sorry no numbers below zero allowed\"\u001b[0m\u001b[1;33m)\u001b[0m\u001b[1;33m\u001b[0m\u001b[1;33m\u001b[0m\u001b[0m\n\u001b[0m",
      "\u001b[1;31mException\u001b[0m: Sorry no numbers below zero allowed"
     ]
    }
   ],
   "source": [
    "#Raise an Exception\n",
    "#Using the raise keyword\n",
    "\n",
    "#Example\n",
    "\n",
    "x = -1\n",
    "\n",
    "if x<0:\n",
    "    raise Exception(\"Sorry no numbers below zero allowed\")"
   ]
  },
  {
   "cell_type": "code",
   "execution_count": 21,
   "metadata": {},
   "outputs": [
    {
     "ename": "TypeError",
     "evalue": "Only integers are allowed",
     "output_type": "error",
     "traceback": [
      "\u001b[1;31m---------------------------------------------------------------------------\u001b[0m",
      "\u001b[1;31mTypeError\u001b[0m                                 Traceback (most recent call last)",
      "\u001b[1;32m<ipython-input-21-ff445b445e57>\u001b[0m in \u001b[0;36m<module>\u001b[1;34m\u001b[0m\n\u001b[0;32m      4\u001b[0m \u001b[1;33m\u001b[0m\u001b[0m\n\u001b[0;32m      5\u001b[0m \u001b[1;32mif\u001b[0m \u001b[1;32mnot\u001b[0m \u001b[0mtype\u001b[0m\u001b[1;33m(\u001b[0m\u001b[0mx\u001b[0m\u001b[1;33m)\u001b[0m \u001b[1;32mis\u001b[0m \u001b[0mint\u001b[0m\u001b[1;33m:\u001b[0m\u001b[1;33m\u001b[0m\u001b[1;33m\u001b[0m\u001b[0m\n\u001b[1;32m----> 6\u001b[1;33m     \u001b[1;32mraise\u001b[0m \u001b[0mTypeError\u001b[0m\u001b[1;33m(\u001b[0m\u001b[1;34m\"Only integers are allowed\"\u001b[0m\u001b[1;33m)\u001b[0m\u001b[1;33m\u001b[0m\u001b[1;33m\u001b[0m\u001b[0m\n\u001b[0m",
      "\u001b[1;31mTypeError\u001b[0m: Only integers are allowed"
     ]
    }
   ],
   "source": [
    "#Example2\n",
    "\n",
    "x = \"hello\"\n",
    "\n",
    "if not type(x) is int:\n",
    "    raise TypeError(\"Only integers are allowed\")"
   ]
  },
  {
   "cell_type": "markdown",
   "metadata": {},
   "source": [
    "# File Handling"
   ]
  },
  {
   "cell_type": "code",
   "execution_count": null,
   "metadata": {},
   "outputs": [],
   "source": [
    "#The key function for working "
   ]
  }
 ],
 "metadata": {
  "kernelspec": {
   "display_name": "Python 3",
   "language": "python",
   "name": "python3"
  },
  "language_info": {
   "codemirror_mode": {
    "name": "ipython",
    "version": 3
   },
   "file_extension": ".py",
   "mimetype": "text/x-python",
   "name": "python",
   "nbconvert_exporter": "python",
   "pygments_lexer": "ipython3",
   "version": "3.7.1"
  }
 },
 "nbformat": 4,
 "nbformat_minor": 2
}
