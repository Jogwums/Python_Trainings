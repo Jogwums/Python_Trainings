{
 "cells": [
  {
   "cell_type": "markdown",
   "metadata": {},
   "source": [
    "# Creating Applications using Tkinter"
   ]
  },
  {
   "cell_type": "code",
   "execution_count": 27,
   "metadata": {},
   "outputs": [
    {
     "name": "stdout",
     "output_type": "stream",
     "text": [
      "password:  DK6wt54FOu@gj8iI\n"
     ]
    }
   ],
   "source": [
    "#No1 Password Generator\n",
    "\n",
    "import random\n",
    "\n",
    "#range of usuable letters\n",
    "\n",
    "s = \"abcdefghijklmnopqrstuvwxyzABCDEFGHIJKLMNOPQRSTUVWXY1234567890!@#$%^&*\"\n",
    "\n",
    "#determine the lenght of the possible password\n",
    "\n",
    "password_len = 16\n",
    "\n",
    "password= \"\".join(random.sample(s,password_len))\n",
    "\n",
    "print('password: ',password)"
   ]
  },
  {
   "cell_type": "code",
   "execution_count": 29,
   "metadata": {},
   "outputs": [
    {
     "name": "stdout",
     "output_type": "stream",
     "text": [
      "Do you wish to convert euros into \n",
      "1)USD \n",
      "2)NGN \n",
      "3)GBP\n",
      "\n",
      "2\n",
      "------------------------------------\n",
      "\n",
      "2 \n",
      "------------------------------------\n",
      "How many euros do you wish to convert into NGN?\n",
      "\n",
      "100\n",
      "------------------------------------\n",
      "\n",
      "100 euros is 48000 Nigerian Naira.\n",
      "\n",
      "------------------------------------\n"
     ]
    }
   ],
   "source": [
    "#Currency Converter\n",
    "EUR = 1 \n",
    "USD = 1.13798\n",
    "GBP = 0.857679\n",
    "NGN = 480\n",
    "\n",
    "def currencyConverter():\n",
    "    chosenCurrency = input(\"Do you wish to convert euros into \\n1)USD \\n2)NGN \\n3)GBP\\n\\n\")\n",
    "    print((\"-\"*36) + \"\\n\")\n",
    "    print(chosenCurrency, \"\\n\" + (\"-\" * 36))\n",
    "    \n",
    "    #USD\n",
    "    if (chosenCurrency) == \"1\":\n",
    "        eurAmount = round(float(input(\"How many euros do you wish to convert into USD?\\n\\n\")))\n",
    "        print((\"-\"*36) + \"\\n\") \n",
    "        print(eurAmount, \"euros is\", round((eurAmount)*1.13798, 2), \"US dollars.\\n\\n\" + (\"-\" * 36))\n",
    "        \n",
    "    #NGN\n",
    "    elif (chosenCurrency) == \"2\":\n",
    "        eurAmount = round(float(input(\"How many euros do you wish to convert into NGN?\\n\\n\")))\n",
    "        print((\"-\"*36) + \"\\n\") \n",
    "        print(eurAmount, \"euros is\", round((eurAmount)*480, 2), \"Nigerian Naira.\\n\\n\" + (\"-\" * 36))\n",
    "        \n",
    "    #GBP\n",
    "    elif (chosenCurrency) == \"3\":\n",
    "        eurAmount = round(float(input(\"How many euros do you wish to convert into GBP?\\n\\n\")))\n",
    "        print((\"-\"*36) + \"\\n\") \n",
    "        print(eurAmount, \"euros is\", round((eurAmount)*0.857679, 2), \"GBP pounds.\\n\\n\" + (\"-\" * 36), \"Thanks for using my program!\")\n",
    "        \n",
    "    #Fail\n",
    "    else:\n",
    "        print(\"Error, please try again. \\nEnter 1 for USD, 2 for NGN or 3 for GBP\")\n",
    "        \n",
    "currencyConverter()"
   ]
  },
  {
   "cell_type": "markdown",
   "metadata": {},
   "source": [
    "# Tkinter GUI Interface\n"
   ]
  },
  {
   "cell_type": "code",
   "execution_count": 1,
   "metadata": {},
   "outputs": [],
   "source": [
    "#Adding buttons to window interface\n",
    "\n",
    "from tkinter import *\n",
    "\n",
    "window = Tk()\n",
    "\n",
    "window.title(\"Welcome!\")\n",
    "\n",
    "window.geometry('350x250')\n",
    "\n",
    "lbl = Label(window, text=\"Hello\")\n",
    "\n",
    "lbl.grid(column=0, row=0)\n",
    "\n",
    "txt = Entry(window, width=10, state='disabled')\n",
    "\n",
    "txt.grid(column=1, row=0)\n",
    "\n",
    "txt.focus()\n",
    "\n",
    "def clicked():\n",
    "    response= \"Welcome to \" + txt.get()\n",
    "    lbl.configure(text=response)\n",
    "    \n",
    "btn = Button(window, text = \"click me\", command=clicked)\n",
    "\n",
    "btn.grid(column=2, row=0)\n",
    "\n",
    "window.mainloop()"
   ]
  },
  {
   "cell_type": "code",
   "execution_count": 10,
   "metadata": {},
   "outputs": [],
   "source": [
    "#tkinter text box is of the format\n",
    "\n",
    "#txt = Entry(window, width=10)\n",
    "\n",
    "#You can get entries using the get_function\n",
    "\n",
    "#to maintain focus on the entry widget txt.focus()"
   ]
  },
  {
   "cell_type": "markdown",
   "metadata": {},
   "source": [
    "# Add a Combobox widget"
   ]
  },
  {
   "cell_type": "code",
   "execution_count": 31,
   "metadata": {},
   "outputs": [],
   "source": [
    "from tkinter import *\n",
    "from tkinter.ttk import *\n",
    "\n",
    "window = Tk()\n",
    "\n",
    "window.title(\"Welcome!\")\n",
    "\n",
    "window.geometry('350x250')\n",
    "\n",
    "combo = Combobox(window)\n",
    "\n",
    "combo['values'] = (1,2,3,4,5, \"Text\")\n",
    "\n",
    "combo.current(1) # set the selected item\n",
    "\n",
    "combo.grid(column=0, row=0)\n",
    "\n",
    "chk_state = BooleanVar() #\n",
    "\n",
    "chk_state.set(True) #set the check state\n",
    "\n",
    "chk = Checkbutton(window, text=\"Choose\", var=chk_state)\n",
    "\n",
    "chk.grid(column=2, row=0)\n",
    "\n",
    "rad1 = Radiobutton(window, text=\"First\", value= 1)\n",
    "rad2 = Radiobutton(window, text=\"Second\", value= 2)\n",
    "rad3 = Radiobutton(window, text=\"Third\", value= 3)\n",
    "\n",
    "rad1.grid(column=0, row=3)\n",
    "rad2.grid(column=1, row=3)\n",
    "rad3.grid(column=2, row=3)\n",
    "\n",
    "window.mainloop()"
   ]
  },
  {
   "cell_type": "markdown",
   "metadata": {},
   "source": [
    "#It is possible to set the command to an existing function \n",
    "\n",
    "rad1 = Radiobutton(window, text=\"First\", value= 1, command=clicked)\n",
    "\n",
    "def clicked():\n",
    "    #add what you like \n"
   ]
  },
  {
   "cell_type": "code",
   "execution_count": 32,
   "metadata": {},
   "outputs": [],
   "source": [
    "from tkinter import *\n",
    "from tkinter.ttk import *\n",
    "\n",
    "window = Tk()\n",
    "\n",
    "window.title(\"Welcome!\")\n",
    "\n",
    "window.geometry('350x250')\n",
    "\n",
    "selected = IntVar() #BooleanVar #these are tkinter variables not regular python\n",
    "\n",
    "rad1 = Radiobutton(window, text=\"First\", value= 1, variable=selected)\n",
    "rad2 = Radiobutton(window, text=\"Second\", value= 2, variable=selected)\n",
    "rad3 = Radiobutton(window, text=\"Third\", value= 3, variable=selected)\n",
    "\n",
    "def clicked():\n",
    "    print(selected.get())\n",
    "    \n",
    "btn = Button(window, text=\"Click Me\", command=clicked)\n",
    "\n",
    "rad1.grid(column=0, row=0)\n",
    "rad2.grid(column=1, row=0)\n",
    "rad3.grid(column=2, row=0)\n",
    "btn.grid(column= 3, row=0)\n",
    "\n",
    "window.mainloop()"
   ]
  },
  {
   "cell_type": "markdown",
   "metadata": {},
   "source": [
    "# Create a Scrolled Text Area"
   ]
  },
  {
   "cell_type": "code",
   "execution_count": 33,
   "metadata": {},
   "outputs": [],
   "source": [
    "from tkinter import *\n",
    "from tkinter import scrolledtext\n",
    "\n",
    "window = Tk()\n",
    "\n",
    "window.title(\"Welcome!\")\n",
    "\n",
    "window.geometry('350x250')\n",
    "\n",
    "txt = scrolledtext.ScrolledText(window, width=40, height=10)\n",
    "\n",
    "#to set scrolledtext content, use the inser method\n",
    "\n",
    "txt.insert(INSERT,'Your text goes here')\n",
    "\n",
    "\n",
    "txt.grid(column=0, row=0)\n",
    "\n",
    "window.mainloop()"
   ]
  },
  {
   "cell_type": "code",
   "execution_count": null,
   "metadata": {},
   "outputs": [],
   "source": [
    "#txt.delete(1.0, END) #to delete all the content of the scroltext box"
   ]
  },
  {
   "cell_type": "markdown",
   "metadata": {},
   "source": [
    "# Create a Message Box"
   ]
  },
  {
   "cell_type": "code",
   "execution_count": 34,
   "metadata": {},
   "outputs": [],
   "source": [
    "from tkinter import *\n",
    "from tkinter import messagebox\n",
    "\n",
    "window = Tk()\n",
    "\n",
    "window.title(\"Welcome!\")\n",
    "\n",
    "window.geometry('350x250')\n",
    "\n",
    "def clicked():\n",
    "    messagebox.showinfo('Message title', 'Message Content')\n",
    "    messagebox.showwarning('Message title', 'Alert')\n",
    "    messagebox.showerror('Message title', 'Error Message')\n",
    "    \n",
    "btn = Button(window, text=\"Click Me\", command=clicked)\n",
    " \n",
    "btn.grid(column=0, row=0)\n",
    "\n",
    "#to show a yes or no mesaagebox to the user \n",
    "\n",
    "#response = messagebox.askquestion('Message title', 'Message content') \n",
    "#response = messagebox.askyesno('Message title', 'Message content')\n",
    "#response = messagebox.askyesonocancel('Message title', 'Message content')\n",
    "#response = messagebox.askokcancel('Message title', 'Message content')\n",
    "#response = messagebox.askretrycancel('Message title', 'Message content')\n",
    "\n",
    "window.mainloop()"
   ]
  },
  {
   "cell_type": "code",
   "execution_count": null,
   "metadata": {},
   "outputs": [],
   "source": []
  },
  {
   "cell_type": "code",
   "execution_count": null,
   "metadata": {},
   "outputs": [],
   "source": []
  }
 ],
 "metadata": {
  "kernelspec": {
   "display_name": "Python 3",
   "language": "python",
   "name": "python3"
  },
  "language_info": {
   "codemirror_mode": {
    "name": "ipython",
    "version": 3
   },
   "file_extension": ".py",
   "mimetype": "text/x-python",
   "name": "python",
   "nbconvert_exporter": "python",
   "pygments_lexer": "ipython3",
   "version": "3.7.1"
  }
 },
 "nbformat": 4,
 "nbformat_minor": 2
}
