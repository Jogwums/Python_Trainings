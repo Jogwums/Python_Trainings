{
 "cells": [
  {
   "cell_type": "markdown",
   "metadata": {},
   "source": [
    "# File handling in python\n",
    "\n",
    "#CRUD Operations"
   ]
  },
  {
   "cell_type": "code",
   "execution_count": 3,
   "metadata": {},
   "outputs": [],
   "source": [
    "#Create\n",
    "#Read\n",
    "#Update\n",
    "#Delete"
   ]
  },
  {
   "cell_type": "markdown",
   "metadata": {},
   "source": [
    "The key function for working with files in Python is the open() function. \n",
    "The open() function takes two parameters; filename, and mode. \n",
    "There are four different methods (modes) for opening a file:\n",
    "\"r\" - Read - Default value. Opens a file for reading, error if the file does not exist\n",
    "\"a\" - Append - Opens a file for appending, creates the file if it does not exist \n",
    "\"w\" - Write - Opens a file for writing, creates the file if it does not exist \n",
    "\"x\" - Create - Creates the specified file, returns an error if the file exists In addition you can specify if the file should be handled as binary or text mode \"t\" - Text - Default value. Text mode \"b\" - Binary - Binary mode (e.g. images)"
   ]
  },
  {
   "cell_type": "markdown",
   "metadata": {},
   "source": [
    "# open(filename, mode=\"r or a or w or x\")"
   ]
  },
  {
   "cell_type": "code",
   "execution_count": 5,
   "metadata": {},
   "outputs": [
    {
     "data": {
      "text/plain": [
       "<_io.TextIOWrapper name='demofile.txt' mode='x' encoding='cp1252'>"
      ]
     },
     "execution_count": 5,
     "metadata": {},
     "output_type": "execute_result"
    }
   ],
   "source": [
    "open(\"demofile.txt\", \"x\")"
   ]
  },
  {
   "cell_type": "code",
   "execution_count": 7,
   "metadata": {},
   "outputs": [
    {
     "name": "stdout",
     "output_type": "stream",
     "text": [
      "<_io.TextIOWrapper name='demofile.txt' mode='r' encoding='cp1252'>\n",
      "Hello! Welcome to demofile.txt\n",
      "This file is a test file.\n",
      "Thanks!\n"
     ]
    }
   ],
   "source": [
    "file = open(\"demofile.txt\", \"r\")\n",
    "\n",
    "print(file)\n",
    "\n",
    "#to read contents from the file, use read() method\n",
    "\n",
    "print(file.read())"
   ]
  },
  {
   "cell_type": "code",
   "execution_count": 10,
   "metadata": {},
   "outputs": [
    {
     "name": "stdout",
     "output_type": "stream",
     "text": [
      "Hello! Wel\n"
     ]
    }
   ],
   "source": [
    "#Read() method by default returns the whole text, but you can also specify how many characters you want it to read\n",
    "\n",
    "f = open(\"demofile.txt\", \"r\")\n",
    "\n",
    "print(f.read(10))"
   ]
  },
  {
   "cell_type": "code",
   "execution_count": 15,
   "metadata": {},
   "outputs": [
    {
     "name": "stdout",
     "output_type": "stream",
     "text": [
      "Hello! Welcome to demofile.txt\n",
      "\n",
      "This file is a test file.\n",
      "\n",
      "Thanks!\n"
     ]
    }
   ],
   "source": [
    "#readline to read an entire line, \n",
    "\n",
    "f = open(\"demofile.txt\", \"r\")\n",
    "\n",
    "print(f.readline())\n",
    "print(f.readline())\n",
    "print(f.readline())"
   ]
  },
  {
   "cell_type": "code",
   "execution_count": 16,
   "metadata": {},
   "outputs": [
    {
     "name": "stdout",
     "output_type": "stream",
     "text": [
      "Hello! Welcome to demofile.txt\n",
      "\n",
      "This file is a test file.\n",
      "\n",
      "Thanks!\n"
     ]
    }
   ],
   "source": [
    "#Loop through the file line by line\n",
    "\n",
    "f = open(\"demofile.txt\", \"r\")\n",
    "\n",
    "for i in f:\n",
    "    print(i)"
   ]
  },
  {
   "cell_type": "code",
   "execution_count": 17,
   "metadata": {},
   "outputs": [
    {
     "name": "stdout",
     "output_type": "stream",
     "text": [
      "Hello! Welcome to demofile.txt\n",
      "\n"
     ]
    }
   ],
   "source": [
    "#Close Files\n",
    "#It is good to close files when your done working with them\n",
    "\n",
    "# Due to buffering, in some cases, changes made to a file wont show until you close it.\n",
    "\n",
    "f = open(\"demofile.txt\", \"r\")\n",
    "\n",
    "print(f.readline())\n",
    "f.close()"
   ]
  },
  {
   "cell_type": "markdown",
   "metadata": {},
   "source": [
    "# Write to an existing file\n",
    "\n"
   ]
  },
  {
   "cell_type": "code",
   "execution_count": 18,
   "metadata": {},
   "outputs": [],
   "source": [
    "#There are two modes that can be used \n",
    "\n",
    "# \"a\" - append will append to the end of the file\n",
    "\n",
    "# \"w\" - write will overwrite any existing content in the file "
   ]
  },
  {
   "cell_type": "code",
   "execution_count": 23,
   "metadata": {},
   "outputs": [],
   "source": [
    "f = open(\"demofile2.txt\", \"a\")\n",
    "f.write(\"We are adding more content!\")\n",
    "f.close()"
   ]
  },
  {
   "cell_type": "code",
   "execution_count": 24,
   "metadata": {},
   "outputs": [
    {
     "name": "stdout",
     "output_type": "stream",
     "text": [
      "Hello! Welcome to demofile.txt\n",
      "This file is a test file.\n",
      "Thanks!We are adding more content!We are adding more content!We are adding more content!We are adding more content!We are adding more content!\n"
     ]
    }
   ],
   "source": [
    "f = open(\"demofile2.txt\", \"r\")\n",
    "\n",
    "print(f.read())\n",
    "\n"
   ]
  },
  {
   "cell_type": "code",
   "execution_count": 25,
   "metadata": {},
   "outputs": [],
   "source": [
    "#Using the file open() - \"w\" write mode\n",
    "\n",
    "#The w method will overwrite the entire file\n",
    "\n",
    "f = open(\"demofile2.txt\", \"w\")\n",
    "f.write(\"Sorry we have deleted all existing lines!\")\n",
    "f.close()"
   ]
  },
  {
   "cell_type": "code",
   "execution_count": 26,
   "metadata": {},
   "outputs": [
    {
     "name": "stdout",
     "output_type": "stream",
     "text": [
      "Sorry we have deleted all existing lines!\n"
     ]
    }
   ],
   "source": [
    "f = open(\"demofile2.txt\", \"r\")\n",
    "\n",
    "print(f.read())"
   ]
  },
  {
   "cell_type": "markdown",
   "metadata": {},
   "source": [
    "# Creating Files in Python \n",
    "\n"
   ]
  },
  {
   "cell_type": "markdown",
   "metadata": {},
   "source": [
    "There are three modes to use when creating files\n",
    "\n",
    "\"x\" - Create -  will create a file, returns an error if the file exists\n",
    "\n",
    "\"a\" - Append - will create a file if the specified file does not exist\n",
    "\n",
    "\"w\" - Write - will create a file if the specified file doesn't exist\n"
   ]
  },
  {
   "cell_type": "code",
   "execution_count": 29,
   "metadata": {},
   "outputs": [
    {
     "ename": "FileExistsError",
     "evalue": "[Errno 17] File exists: 'myfile.txt'",
     "output_type": "error",
     "traceback": [
      "\u001b[1;31m---------------------------------------------------------------------------\u001b[0m",
      "\u001b[1;31mFileExistsError\u001b[0m                           Traceback (most recent call last)",
      "\u001b[1;32m<ipython-input-29-ab3bf8a3e666>\u001b[0m in \u001b[0;36m<module>\u001b[1;34m\u001b[0m\n\u001b[0;32m      3\u001b[0m \u001b[1;31m#Creates a new file\u001b[0m\u001b[1;33m\u001b[0m\u001b[1;33m\u001b[0m\u001b[1;33m\u001b[0m\u001b[0m\n\u001b[0;32m      4\u001b[0m \u001b[1;33m\u001b[0m\u001b[0m\n\u001b[1;32m----> 5\u001b[1;33m \u001b[0mf\u001b[0m \u001b[1;33m=\u001b[0m \u001b[0mopen\u001b[0m\u001b[1;33m(\u001b[0m\u001b[1;34m\"myfile.txt\"\u001b[0m\u001b[1;33m,\u001b[0m \u001b[1;34m\"x\"\u001b[0m\u001b[1;33m)\u001b[0m\u001b[1;33m\u001b[0m\u001b[1;33m\u001b[0m\u001b[0m\n\u001b[0m",
      "\u001b[1;31mFileExistsError\u001b[0m: [Errno 17] File exists: 'myfile.txt'"
     ]
    }
   ],
   "source": [
    "#Example\n",
    "\n",
    "#Creates a new file \n",
    "\n",
    "f = open(\"myfile.txt\", \"x\")\n"
   ]
  },
  {
   "cell_type": "code",
   "execution_count": 33,
   "metadata": {},
   "outputs": [],
   "source": [
    "#using w\n",
    "#THis will overwrite and create new file with similar name\n",
    "f = open(\"myfile.txt\", \"w\")\n",
    "f.close()"
   ]
  },
  {
   "cell_type": "code",
   "execution_count": 35,
   "metadata": {},
   "outputs": [
    {
     "ename": "FileNotFoundError",
     "evalue": "[WinError 2] The system cannot find the file specified: 'myfile.txt'",
     "output_type": "error",
     "traceback": [
      "\u001b[1;31m---------------------------------------------------------------------------\u001b[0m",
      "\u001b[1;31mFileNotFoundError\u001b[0m                         Traceback (most recent call last)",
      "\u001b[1;32m<ipython-input-35-874ee1c3e331>\u001b[0m in \u001b[0;36m<module>\u001b[1;34m\u001b[0m\n\u001b[0;32m      5\u001b[0m \u001b[1;32mimport\u001b[0m \u001b[0mos\u001b[0m\u001b[1;33m\u001b[0m\u001b[1;33m\u001b[0m\u001b[0m\n\u001b[0;32m      6\u001b[0m \u001b[1;33m\u001b[0m\u001b[0m\n\u001b[1;32m----> 7\u001b[1;33m \u001b[0mos\u001b[0m\u001b[1;33m.\u001b[0m\u001b[0mremove\u001b[0m\u001b[1;33m(\u001b[0m\u001b[1;34m\"myfile.txt\"\u001b[0m\u001b[1;33m)\u001b[0m\u001b[1;33m\u001b[0m\u001b[1;33m\u001b[0m\u001b[0m\n\u001b[0m",
      "\u001b[1;31mFileNotFoundError\u001b[0m: [WinError 2] The system cannot find the file specified: 'myfile.txt'"
     ]
    }
   ],
   "source": [
    "#Delete files\n",
    "#we need to import the OS module\n",
    "#use the os.remove() function\n",
    "\n",
    "import os\n",
    "\n",
    "os.remove(\"myfile.txt\")"
   ]
  },
  {
   "cell_type": "markdown",
   "metadata": {},
   "source": [
    "# If you want to delete a folder \n",
    "#os.rmdir() method can be used \n",
    "\n"
   ]
  },
  {
   "cell_type": "markdown",
   "metadata": {},
   "source": [
    "# Check if File Exist"
   ]
  },
  {
   "cell_type": "code",
   "execution_count": 36,
   "metadata": {},
   "outputs": [
    {
     "name": "stdout",
     "output_type": "stream",
     "text": [
      "The file exists\n"
     ]
    }
   ],
   "source": [
    "import os \n",
    "\n",
    "if os.path.exists(\"demofile.txt\"):\n",
    "    print(\"The file exists\")"
   ]
  },
  {
   "cell_type": "code",
   "execution_count": 41,
   "metadata": {},
   "outputs": [
    {
     "name": "stdout",
     "output_type": "stream",
     "text": [
      "It's does not\n"
     ]
    }
   ],
   "source": [
    "if os.path.exists(\"myfile.txt\"):\n",
    "    print(\"The file exists\")\n",
    "else:\n",
    "    open(\"myfile.txt\", \"x\")\n",
    "    #print(\"It's does not\")"
   ]
  },
  {
   "cell_type": "code",
   "execution_count": 42,
   "metadata": {},
   "outputs": [
    {
     "name": "stdout",
     "output_type": "stream",
     "text": [
      "The file exists\n"
     ]
    }
   ],
   "source": [
    "if os.path.exists(\"myfile.txt\"):\n",
    "    print(\"The file exists\")"
   ]
  },
  {
   "cell_type": "markdown",
   "metadata": {},
   "source": [
    "# PIP Package Manager for Python Modules or Packages"
   ]
  },
  {
   "cell_type": "code",
   "execution_count": 43,
   "metadata": {},
   "outputs": [
    {
     "data": {
      "text/plain": [
       "\"C:\\\\Users\\\\hp\\\\SabiTeach\\\\Sean's Python3 Class\""
      ]
     },
     "execution_count": 43,
     "metadata": {},
     "output_type": "execute_result"
    }
   ],
   "source": [
    "pwd"
   ]
  },
  {
   "cell_type": "code",
   "execution_count": 44,
   "metadata": {},
   "outputs": [
    {
     "name": "stdout",
     "output_type": "stream",
     "text": [
      "\n",
      "The following command must be run outside of the IPython shell:\n",
      "\n",
      "    $ pip --version\n",
      "\n",
      "The Python package manager (pip) can only be used from outside of IPython.\n",
      "Please reissue the `pip` command in a separate terminal or command prompt.\n",
      "\n",
      "See the Python documentation for more information on how to install packages:\n",
      "\n",
      "    https://docs.python.org/3/installing/\n"
     ]
    }
   ],
   "source": [
    "pip --version"
   ]
  },
  {
   "cell_type": "code",
   "execution_count": 45,
   "metadata": {},
   "outputs": [],
   "source": [
    "#To use PIP you need to access it from the CMD / Shell\n",
    "\n",
    "# Basically, Once python is installedd you have pip installed as well."
   ]
  },
  {
   "cell_type": "code",
   "execution_count": 46,
   "metadata": {},
   "outputs": [],
   "source": [
    "import numpy \n",
    "import pandas"
   ]
  },
  {
   "cell_type": "code",
   "execution_count": 48,
   "metadata": {},
   "outputs": [
    {
     "data": {
      "text/plain": [
       "array([0.81951308, 0.50881198, 0.36893223, 0.55666761, 0.5562453 ])"
      ]
     },
     "execution_count": 48,
     "metadata": {},
     "output_type": "execute_result"
    }
   ],
   "source": [
    "import numpy as np\n",
    "\n",
    "np.random.random(5)"
   ]
  },
  {
   "cell_type": "code",
   "execution_count": 49,
   "metadata": {},
   "outputs": [],
   "source": [
    "import pandas as pd"
   ]
  },
  {
   "cell_type": "code",
   "execution_count": 50,
   "metadata": {},
   "outputs": [
    {
     "data": {
      "text/html": [
       "<div>\n",
       "<style scoped>\n",
       "    .dataframe tbody tr th:only-of-type {\n",
       "        vertical-align: middle;\n",
       "    }\n",
       "\n",
       "    .dataframe tbody tr th {\n",
       "        vertical-align: top;\n",
       "    }\n",
       "\n",
       "    .dataframe thead th {\n",
       "        text-align: right;\n",
       "    }\n",
       "</style>\n",
       "<table border=\"1\" class=\"dataframe\">\n",
       "  <thead>\n",
       "    <tr style=\"text-align: right;\">\n",
       "      <th></th>\n",
       "      <th>Hello! Welcome to demofile.txt</th>\n",
       "    </tr>\n",
       "  </thead>\n",
       "  <tbody>\n",
       "    <tr>\n",
       "      <th>0</th>\n",
       "      <td>This file is a test file.</td>\n",
       "    </tr>\n",
       "    <tr>\n",
       "      <th>1</th>\n",
       "      <td>Thanks!</td>\n",
       "    </tr>\n",
       "  </tbody>\n",
       "</table>\n",
       "</div>"
      ],
      "text/plain": [
       "  Hello! Welcome to demofile.txt\n",
       "0      This file is a test file.\n",
       "1                        Thanks!"
      ]
     },
     "execution_count": 50,
     "metadata": {},
     "output_type": "execute_result"
    }
   ],
   "source": [
    "pd.read_csv(\"demofile.txt\")"
   ]
  },
  {
   "cell_type": "markdown",
   "metadata": {},
   "source": [
    "# TextFinder"
   ]
  },
  {
   "cell_type": "code",
   "execution_count": 53,
   "metadata": {},
   "outputs": [
    {
     "name": "stdout",
     "output_type": "stream",
     "text": [
      "Enter your target text: Match08\n",
      "ezg0DG#\n",
      "RQ#Yk.Z\n",
      "b;;5fAs\n",
      "hSkd!rg\n",
      "kujiEXg\n",
      "LrgLPy1\n",
      "9ktX34s\n",
      "9lt4tXf\n",
      "WDtK3?3\n",
      "x!tkPxz\n",
      ":otiJHt\n",
      "l2t9yv8\n",
      "vVtkZG8\n",
      "C4tnj38\n",
      "xntycQ8\n",
      "!,tCUj8\n",
      "IFtI9J8\n",
      "bKtW3t8\n",
      "ZetkGL8\n",
      "bZtGit8\n",
      "XgtEB 8\n",
      "3mtIT08\n",
      "CFtA908\n",
      "Lntdv08\n",
      "Q.tf008\n",
      "T3tK408\n",
      "oItIC08\n",
      "::tVz08\n",
      "Y,tQ#08\n",
      "WVtW 08\n",
      "uztIH08\n",
      "O8tzc08\n",
      "9Jtl.08\n",
      "JRtAP08\n",
      "uYtuh08\n",
      "t4teh08\n",
      "uctJh08\n",
      "ACt8h08\n",
      "C#tUh08\n",
      "!Qt0h08\n",
      "zotch08\n",
      ";Xtch08\n",
      "hRtch08\n",
      ":stch08\n",
      "M5tch08\n",
      "MRtch08\n",
      "M3tch08\n",
      "MYtch08\n",
      "M0tch08\n",
      "M8tch08\n",
      "MLtch08\n",
      "MMtch08\n",
      "Mdtch08\n",
      "M2tch08\n",
      "Mftch08\n",
      "MPtch08\n",
      "M:tch08\n",
      "MZtch08\n",
      "Mqtch08\n",
      "Mytch08\n",
      "M0tch08\n",
      "Mstch08\n",
      "Mytch08\n",
      "MWtch08\n",
      "Mbtch08\n",
      "Mdtch08\n",
      "MVtch08\n",
      "Mltch08\n",
      "MNtch08\n",
      "M5tch08\n",
      "MFtch08\n",
      "M6tch08\n",
      "M tch08\n",
      "MBtch08\n",
      "MRtch08\n",
      "M:tch08\n",
      "Mntch08\n",
      "MRtch08\n",
      "M1tch08\n",
      "Mptch08\n",
      "Mktch08\n",
      "MUtch08\n",
      "M7tch08\n",
      "Mntch08\n",
      "Motch08\n",
      "Mqtch08\n",
      "Mttch08\n",
      "MHtch08\n",
      "MPtch08\n",
      "MLtch08\n",
      "Mstch08\n",
      "MLtch08\n",
      "Mbtch08\n",
      "Mltch08\n",
      "MStch08\n",
      "MLtch08\n",
      "M5tch08\n",
      "Mbtch08\n",
      "MDtch08\n",
      "Mztch08\n",
      "Mctch08\n",
      "MXtch08\n",
      "Mbtch08\n",
      "Mqtch08\n",
      "Match08\n",
      "Target matched! That took 105generation(s)"
     ]
    }
   ],
   "source": [
    "import string \n",
    "import random\n",
    "import time \n",
    "\n",
    "possibleCharacters = string.ascii_lowercase + string.digits + string.ascii_uppercase + ' .,!?;:'\"#\"\n",
    "\n",
    "target = input(\"Enter your target text: \")\n",
    "attemptThis = ''.join(random.choice(possibleCharacters) for i in range(len(target)))\n",
    "attemptNext = ''\n",
    "\n",
    "completed = False\n",
    "\n",
    "generation = 0\n",
    "\n",
    "while completed == False:\n",
    "    print(attemptThis)\n",
    "    attemptNext = ''\n",
    "    completed = True\n",
    "    for i in range(len(target)):\n",
    "        if attemptThis[i] != target[i]:\n",
    "            completed = False\n",
    "            attemptNext += random.choice(possibleCharacters)\n",
    "        else:\n",
    "            attemptNext += target[i]\n",
    "    generation += 1\n",
    "    attemptThis = attemptNext \n",
    "    time.sleep(0.03)\n",
    "    \n",
    "print(\"Target matched! That took \" + str(generation) + \"generation(s)\", end=\"\")"
   ]
  },
  {
   "cell_type": "code",
   "execution_count": null,
   "metadata": {},
   "outputs": [],
   "source": []
  }
 ],
 "metadata": {
  "kernelspec": {
   "display_name": "Python 3",
   "language": "python",
   "name": "python3"
  },
  "language_info": {
   "codemirror_mode": {
    "name": "ipython",
    "version": 3
   },
   "file_extension": ".py",
   "mimetype": "text/x-python",
   "name": "python",
   "nbconvert_exporter": "python",
   "pygments_lexer": "ipython3",
   "version": "3.7.1"
  }
 },
 "nbformat": 4,
 "nbformat_minor": 2
}
