{
 "cells": [
  {
   "cell_type": "code",
   "execution_count": 1,
   "metadata": {},
   "outputs": [],
   "source": [
    "#Python Classes and Objects\n",
    "#Object oriented lang\n",
    "#Class is an object constructor and it's a blueprint for creating objects "
   ]
  },
  {
   "cell_type": "code",
   "execution_count": 2,
   "metadata": {},
   "outputs": [],
   "source": [
    "class myClass:\n",
    "    x = 5 "
   ]
  },
  {
   "cell_type": "code",
   "execution_count": 3,
   "metadata": {},
   "outputs": [
    {
     "name": "stdout",
     "output_type": "stream",
     "text": [
      "5\n"
     ]
    }
   ],
   "source": [
    "p1 = myClass()\n",
    "\n",
    "print(p1.x)"
   ]
  },
  {
   "cell_type": "code",
   "execution_count": 4,
   "metadata": {},
   "outputs": [],
   "source": [
    "#Initialization function\n",
    "#__init__() Function"
   ]
  },
  {
   "cell_type": "code",
   "execution_count": 5,
   "metadata": {},
   "outputs": [],
   "source": [
    "class Person:\n",
    "    def __init__(self, name, age):\n",
    "        self.name = name\n",
    "        self.age = age\n"
   ]
  },
  {
   "cell_type": "code",
   "execution_count": 6,
   "metadata": {},
   "outputs": [],
   "source": [
    "p1 = Person(\"John\", 36)"
   ]
  },
  {
   "cell_type": "code",
   "execution_count": 7,
   "metadata": {},
   "outputs": [
    {
     "name": "stdout",
     "output_type": "stream",
     "text": [
      "John\n",
      "36\n"
     ]
    }
   ],
   "source": [
    "print(p1.name)\n",
    "print(p1.age)"
   ]
  },
  {
   "cell_type": "code",
   "execution_count": 8,
   "metadata": {},
   "outputs": [],
   "source": [
    "p2 = Person(\"Lilly\", 25)"
   ]
  },
  {
   "cell_type": "code",
   "execution_count": 10,
   "metadata": {},
   "outputs": [
    {
     "name": "stdout",
     "output_type": "stream",
     "text": [
      "Lilly\n",
      "25\n"
     ]
    }
   ],
   "source": [
    "print(p2.name)\n",
    "print(p2.age)"
   ]
  },
  {
   "cell_type": "code",
   "execution_count": 11,
   "metadata": {},
   "outputs": [],
   "source": [
    "#Object Methods\n",
    "\n",
    "class Person:\n",
    "    def __init__(self, name, age):\n",
    "        self.name = name\n",
    "        self.age = age\n",
    "    \n",
    "    def myFunc(self):\n",
    "        print(\"Hello my name is \"+ self.name)\n",
    "        "
   ]
  },
  {
   "cell_type": "code",
   "execution_count": 14,
   "metadata": {},
   "outputs": [
    {
     "name": "stdout",
     "output_type": "stream",
     "text": [
      "Hello my name is John\n"
     ]
    }
   ],
   "source": [
    "p1 = Person(\"John\", 36)\n",
    "p1.myFunc()"
   ]
  },
  {
   "cell_type": "code",
   "execution_count": 15,
   "metadata": {},
   "outputs": [],
   "source": [
    "class Person:\n",
    "    def __init__(myobjct, name, age):\n",
    "        myobjct.name = name\n",
    "        myobjct.age = age\n",
    "    \n",
    "    def myFunc(new):\n",
    "        print(\"Hello my name is \"+ new.name)"
   ]
  },
  {
   "cell_type": "code",
   "execution_count": 16,
   "metadata": {},
   "outputs": [
    {
     "name": "stdout",
     "output_type": "stream",
     "text": [
      "Hello my name is Jonny\n"
     ]
    }
   ],
   "source": [
    "p1 = Person(\"Jonny\", 30)\n",
    "p1.myFunc()"
   ]
  },
  {
   "cell_type": "code",
   "execution_count": 17,
   "metadata": {},
   "outputs": [],
   "source": [
    "#Modify Object Properties\n",
    "\n",
    "p1.age = 40"
   ]
  },
  {
   "cell_type": "code",
   "execution_count": 19,
   "metadata": {},
   "outputs": [
    {
     "name": "stdout",
     "output_type": "stream",
     "text": [
      "Jonny\n",
      "40\n"
     ]
    }
   ],
   "source": [
    "print(p1.name)\n",
    "print(p1.age)"
   ]
  },
  {
   "cell_type": "markdown",
   "metadata": {},
   "source": [
    "#Delete Object Properties\n",
    "# Delete whole Object(s) too\n",
    "\n",
    "# del keyword\n",
    "\n",
    "del p1.age \n",
    "\n",
    "del p1 "
   ]
  },
  {
   "cell_type": "code",
   "execution_count": 24,
   "metadata": {},
   "outputs": [],
   "source": [
    "#pass statement \n",
    "\n",
    "class People:\n",
    "    pass\n",
    "   \n",
    "    "
   ]
  },
  {
   "cell_type": "code",
   "execution_count": 22,
   "metadata": {},
   "outputs": [],
   "source": [
    "#Python Inheritance \n",
    "#Inheritance allows us to define a class that inherits all the methods \n",
    "#and properties from another class"
   ]
  },
  {
   "cell_type": "code",
   "execution_count": 25,
   "metadata": {},
   "outputs": [],
   "source": [
    "#Parent class: this is the class being inherited from, also called the base class.\n",
    "\n",
    "#child class: this inherits from the parent, and is called derived class "
   ]
  },
  {
   "cell_type": "code",
   "execution_count": 26,
   "metadata": {},
   "outputs": [],
   "source": [
    "#Example\n",
    "#Create a class named Person, with firstname and lastname properties,\n",
    "#and a printname method:"
   ]
  },
  {
   "cell_type": "code",
   "execution_count": 27,
   "metadata": {},
   "outputs": [],
   "source": [
    "#Create a Parent Class\n",
    "\n",
    "class Person:\n",
    "    def __init__(self, fname, lname):\n",
    "        self.firstname = fname\n",
    "        self.lastname = lname\n",
    "        \n",
    "    def printname(self):\n",
    "        print(self.firstname, self.lastname)\n",
    "    "
   ]
  },
  {
   "cell_type": "code",
   "execution_count": 29,
   "metadata": {},
   "outputs": [
    {
     "name": "stdout",
     "output_type": "stream",
     "text": [
      "Joe King\n"
     ]
    }
   ],
   "source": [
    "x = Person(\"Joe\", \"King\")\n",
    "x.printname()"
   ]
  },
  {
   "cell_type": "code",
   "execution_count": 34,
   "metadata": {},
   "outputs": [],
   "source": [
    "#Child Class\n",
    "\n",
    "#Create a class named Student,\n",
    "#which will inherit the properties and methods from the Person class\n",
    "\n",
    "class Student(Person):\n",
    "    def __init__(self, fname, lname, age):\n",
    "        self.firstname = fname\n",
    "        self.lastname = lname\n",
    "        self.age = age\n",
    "        \n",
    "    def printdetails(self):\n",
    "        print(self.firstname, self.lastname, self.age)\n",
    "    \n",
    "    \n",
    "   "
   ]
  },
  {
   "cell_type": "code",
   "execution_count": 38,
   "metadata": {},
   "outputs": [
    {
     "name": "stdout",
     "output_type": "stream",
     "text": [
      "Mike Balogun 30\n"
     ]
    }
   ],
   "source": [
    "x = Student(\"Mike\", \"Balogun\", 30)\n",
    "x.printdetails()"
   ]
  },
  {
   "cell_type": "code",
   "execution_count": 40,
   "metadata": {},
   "outputs": [],
   "source": [
    "#super() Function\n",
    "\n",
    "class Student(Person):\n",
    "    def __init__(self, fname, lname):\n",
    "        super().__init__(fname, lname)\n",
    "        \n"
   ]
  },
  {
   "cell_type": "code",
   "execution_count": 46,
   "metadata": {},
   "outputs": [
    {
     "name": "stdout",
     "output_type": "stream",
     "text": [
      "Kemi Osho\n"
     ]
    }
   ],
   "source": [
    "y = Student(\"Kemi\", \"Osho\")\n",
    "y.printname()"
   ]
  },
  {
   "cell_type": "code",
   "execution_count": 49,
   "metadata": {},
   "outputs": [],
   "source": [
    "class Student(Person):\n",
    "    def __init__(self, fname, lname, year, age):\n",
    "        super().__init__(fname, lname)\n",
    "        self.graduationyear = year\n",
    "        self.age = age\n",
    "        "
   ]
  },
  {
   "cell_type": "code",
   "execution_count": 51,
   "metadata": {},
   "outputs": [],
   "source": [
    "class Student(Person):\n",
    "    def __init__(self, fname, lname, age, year):\n",
    "        Person.__init__(self, fname, lname)\n",
    "        self.age = age\n",
    "        self.graduationyear = year"
   ]
  },
  {
   "cell_type": "code",
   "execution_count": 52,
   "metadata": {},
   "outputs": [],
   "source": [
    "#Add Methods\n",
    "\n",
    "class Student(Person):\n",
    "    def __init__(self, fname, lname, age, year):\n",
    "        Person.__init__(self, fname, lname)\n",
    "        self.age = age\n",
    "        self.graduationyear = year\n",
    "    \n",
    "    def welcome(self):\n",
    "        print(\"Welcome\", self.firstname, self.lastname, \"to this class of\",\n",
    "             self.graduationyear, \"you are this years old \", self.age)\n"
   ]
  },
  {
   "cell_type": "code",
   "execution_count": 54,
   "metadata": {},
   "outputs": [
    {
     "name": "stdout",
     "output_type": "stream",
     "text": [
      "Welcome Joe King to this class of 2020 you are this years old  30\n"
     ]
    }
   ],
   "source": [
    "x = Student(\"Joe\", \"King\", 30, 2020)\n",
    "x.welcome()"
   ]
  },
  {
   "cell_type": "code",
   "execution_count": 55,
   "metadata": {},
   "outputs": [],
   "source": [
    "#Create a Calculator\n",
    "\n",
    "# Will help you see different classes and methods and functions coming together to form a program\n",
    "\n"
   ]
  },
  {
   "cell_type": "code",
   "execution_count": null,
   "metadata": {},
   "outputs": [
    {
     "name": "stdout",
     "output_type": "stream",
     "text": [
      "This is a calculator app\n",
      "Type exit to exit\n",
      "\n",
      "Enter equation: 2+2\n",
      "42+2\n",
      "44+ 3\n",
      "47- 3\n",
      "44/ 2\n"
     ]
    }
   ],
   "source": [
    "#regular expression library \n",
    "import re \n",
    "\n",
    "print(\"This is a calculator app\")\n",
    "\n",
    "print(\"Type exit to exit\\n\")\n",
    "\n",
    "previous = 0\n",
    "run = True\n",
    "\n",
    "def performMath():\n",
    "    global run\n",
    "    global previous\n",
    "    \n",
    "    equation = \"\"\n",
    "    if previous == 0:\n",
    "        equation = input(\"Enter equation: \")\n",
    "    else:\n",
    "        equation = input(str(previous))\n",
    "    \n",
    "    if equation == 'exit\\n':\n",
    "        print(\"Goodbye!\")\n",
    "        run = False\n",
    "    else:\n",
    "        equation = re.sub('[a-zA-Z,.:()\"\"]','',equation)\n",
    "    \n",
    "    if previous == 0:\n",
    "        previous = eval(equation)\n",
    "    else:\n",
    "        previous = eval(str(previous) + equation)\n",
    "\n",
    "while run:\n",
    "    performMath()\n",
    "   "
   ]
  },
  {
   "cell_type": "code",
   "execution_count": null,
   "metadata": {},
   "outputs": [],
   "source": [
    "#Dates in python "
   ]
  },
  {
   "cell_type": "code",
   "execution_count": null,
   "metadata": {},
   "outputs": [],
   "source": []
  },
  {
   "cell_type": "code",
   "execution_count": null,
   "metadata": {},
   "outputs": [],
   "source": []
  },
  {
   "cell_type": "code",
   "execution_count": null,
   "metadata": {},
   "outputs": [],
   "source": []
  }
 ],
 "metadata": {
  "kernelspec": {
   "display_name": "Python 3",
   "language": "python",
   "name": "python3"
  },
  "language_info": {
   "codemirror_mode": {
    "name": "ipython",
    "version": 3
   },
   "file_extension": ".py",
   "mimetype": "text/x-python",
   "name": "python",
   "nbconvert_exporter": "python",
   "pygments_lexer": "ipython3",
   "version": "3.7.1"
  }
 },
 "nbformat": 4,
 "nbformat_minor": 2
}
