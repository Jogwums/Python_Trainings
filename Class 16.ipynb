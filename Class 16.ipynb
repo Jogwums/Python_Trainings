{
 "cells": [
  {
   "cell_type": "markdown",
   "metadata": {},
   "source": [
    "# Calendar GUI "
   ]
  },
  {
   "cell_type": "code",
   "execution_count": 1,
   "metadata": {},
   "outputs": [],
   "source": [
    "#import required libraries tkinter \n",
    "# calendar "
   ]
  },
  {
   "cell_type": "code",
   "execution_count": 2,
   "metadata": {},
   "outputs": [
    {
     "name": "stdout",
     "output_type": "stream",
     "text": [
      "input the year:2020\n",
      "input the month:05\n",
      "      May 2020\n",
      "Mo Tu We Th Fr Sa Su\n",
      "             1  2  3\n",
      " 4  5  6  7  8  9 10\n",
      "11 12 13 14 15 16 17\n",
      "18 19 20 21 22 23 24\n",
      "25 26 27 28 29 30 31\n",
      "\n"
     ]
    }
   ],
   "source": [
    "import calendar\n",
    "\n",
    "y = int(input(\"input the year:\"))\n",
    "\n",
    "m = int(input(\"input the month:\"))\n",
    "\n",
    "print(calendar.month(y, m))"
   ]
  },
  {
   "cell_type": "code",
   "execution_count": 3,
   "metadata": {},
   "outputs": [],
   "source": []
  },
  {
   "cell_type": "code",
   "execution_count": 2,
   "metadata": {},
   "outputs": [],
   "source": [
    "import calendar\n",
    "from tkinter import *\n",
    "\n",
    "#create a function for showing the calendar \n",
    "\n",
    "def showCal():\n",
    "    new_gui = Tk() #creates a new GUI\n",
    "    \n",
    "    new_gui.config(background=\"white\")\n",
    "    \n",
    "    new_gui.title(\"CALENDAR\") #sets the title of the frame\n",
    "    \n",
    "    new_gui.geometry(\"550x600\") #sets the size of the window\n",
    "    \n",
    "    #get method returns the current year as string text\n",
    "    fetch_year = int(year_field.get())\n",
    "    \n",
    "    #calendar method returns the calendar of the given year\n",
    "    cal_content = calendar.calendar(fetch_year)\n",
    "    \n",
    "    #create a label for showing the content of the calendar\n",
    "    cal_year = Label(new_gui, text=cal_content, font=\"Arial 10 bold\")\n",
    "    \n",
    "    #grid method, used for placing the widgets at selected positions\n",
    "    cal_year.grid(row=5, column=1, padx=20)\n",
    "    \n",
    "    #start the GUI\n",
    "    new_gui.mainloop()\n",
    "    \n",
    "if __name__ == \"__main__\":\n",
    "    \n",
    "    #create a GUI window\n",
    "    gui = Tk()\n",
    "    \n",
    "    #set the background color of the GUI\n",
    "    gui.config(background=\"light blue\")\n",
    "    \n",
    "    #set the name of the GUI wuindow \n",
    "    gui.title(\"CALENDAR\")\n",
    "    \n",
    "    #set the configuration of the gui window\n",
    "    gui.geometry(\"200x200\")\n",
    "    \n",
    "    #create a Calendar label with specified font size\n",
    "    cal = Label(gui, text=\"CALENDAR\", bg=\"dark grey\", font=(\"times\", 24, \"bold\"))\n",
    "    \n",
    "    #create an Enter Year: Label\n",
    "    year = Label(gui, text=\"Enter Year\", bg=\"light green\")\n",
    "    \n",
    "    #create a text entry box for filling or typing the information\n",
    "    year_field = Entry(gui)\n",
    "    \n",
    "    #create a Show Calender button and attach the showCal function\n",
    "    Show = Button(gui, text=\"SHOW CALENDAR\", fg=\"black\", bg=\"blue\", command=showCal)\n",
    "    \n",
    "    #create an Exit button and attach an exit function to it \n",
    "    Exit = Button(gui, text=\"Exit\", fg=\"black\", bg=\"red\", command= exit)\n",
    "    \n",
    "    #place widgets using the grid method\n",
    "    \n",
    "    cal.grid(row=1, column=1)\n",
    "    \n",
    "    year.grid(row=2, column=1)\n",
    "    \n",
    "    year_field.grid(row=3, column=1)\n",
    "    \n",
    "    Show.grid(row=4, column=1)\n",
    "    \n",
    "    Exit.grid(row=6, column=1)\n",
    "    \n",
    "    #start the GUI\n",
    "    gui.mainloop()"
   ]
  },
  {
   "cell_type": "code",
   "execution_count": null,
   "metadata": {},
   "outputs": [
    {
     "name": "stdout",
     "output_type": "stream",
     "text": [
      "Made by SabiTeach\n"
     ]
    }
   ],
   "source": [
    "#Creating an Alarm in Python\n",
    "\n",
    "\n",
    "import time\n",
    "import winsound\n",
    "print(\"Made by SabiTeach\")\n",
    "\n",
    "def myAlarm():\n",
    "    try:\n",
    "        myTime = list(map(int, input(\"Enter the alarm time in hr min sec\\n\").split()))\n",
    "        if len(myTime)  == 3:\n",
    "            total_seconds=myTime[0]*60*60+myTime[1]*60+myTime[2]\n",
    "            time.sleep(total_seconds)\n",
    "            \n",
    "            frequency=2500 #set frequency to 2500 Hertz\n",
    "            duration= 1000 #set the alarm duration 1000ms = 1sec\n",
    "            winsound.Beep(frequency, duration)\n",
    "        else:\n",
    "            print(\"Please enter the alarm time in correct format, use spaces to differentiate\")\n",
    "            myAlarm()\n",
    "    except Exception as e:\n",
    "        print(\"This is the exception\\n\", e, \"So please enter the correct details!\")\n",
    "        myAlarm()\n",
    "myAlarm()          \n",
    "            "
   ]
  },
  {
   "cell_type": "code",
   "execution_count": 5,
   "metadata": {},
   "outputs": [
    {
     "name": "stdout",
     "output_type": "stream",
     "text": [
      "2020-05-04 14:28:15.764521\n"
     ]
    }
   ],
   "source": [
    "import datetime \n",
    "\n",
    "print(datetime.datetime.now())"
   ]
  },
  {
   "cell_type": "code",
   "execution_count": null,
   "metadata": {},
   "outputs": [],
   "source": []
  },
  {
   "cell_type": "code",
   "execution_count": null,
   "metadata": {},
   "outputs": [],
   "source": []
  }
 ],
 "metadata": {
  "kernelspec": {
   "display_name": "Python 3",
   "language": "python",
   "name": "python3"
  },
  "language_info": {
   "codemirror_mode": {
    "name": "ipython",
    "version": 3
   },
   "file_extension": ".py",
   "mimetype": "text/x-python",
   "name": "python",
   "nbconvert_exporter": "python",
   "pygments_lexer": "ipython3",
   "version": "3.7.1"
  }
 },
 "nbformat": 4,
 "nbformat_minor": 2
}
