{
 "metadata": {
  "language_info": {
   "codemirror_mode": {
    "name": "ipython",
    "version": 3
   },
   "file_extension": ".py",
   "mimetype": "text/x-python",
   "name": "python",
   "nbconvert_exporter": "python",
   "pygments_lexer": "ipython3",
   "version": "3.7.1-final"
  },
  "orig_nbformat": 2,
  "kernelspec": {
   "name": "python3",
   "display_name": "Python 3",
   "language": "python"
  }
 },
 "nbformat": 4,
 "nbformat_minor": 2,
 "cells": [
  {
   "cell_type": "code",
   "execution_count": 1,
   "metadata": {},
   "outputs": [],
   "source": [
    "#Welcome to Numpy "
   ]
  },
  {
   "cell_type": "code",
   "execution_count": 2,
   "metadata": {},
   "outputs": [],
   "source": [
    "#NUMPY - NUMERICAL PYTHON \n",
    "#STANDARD PYTHON LIBRARY FOR SCIENTIFIC AND NUMERICAL COMPUTING  "
   ]
  },
  {
   "cell_type": "code",
   "execution_count": 3,
   "metadata": {},
   "outputs": [],
   "source": [
    "#FEATURES \n",
    "#NUMPY ARRAYS - 2 main types or flavors \n",
    "# vectors, these are 1-d arrays \n",
    "# arrays, these are 2-d arrays "
   ]
  },
  {
   "cell_type": "code",
   "execution_count": 4,
   "metadata": {},
   "outputs": [],
   "source": [
    "import numpy"
   ]
  },
  {
   "cell_type": "code",
   "execution_count": 5,
   "metadata": {},
   "outputs": [],
   "source": [
    "#create a list \n",
    "l1 = [1,4,8,12]\n",
    "ar2 = numpy.array(l1)"
   ]
  },
  {
   "cell_type": "code",
   "execution_count": 6,
   "metadata": {},
   "outputs": [
    {
     "output_type": "execute_result",
     "data": {
      "text/plain": [
       "array([ 1,  4,  8, 12])"
      ]
     },
     "metadata": {},
     "execution_count": 6
    }
   ],
   "source": [
    "#1-d array \n",
    "ar2"
   ]
  },
  {
   "cell_type": "code",
   "execution_count": 7,
   "metadata": {},
   "outputs": [],
   "source": [
    "#2d array \n",
    "l2 = [[1,4,8,12], [1,2,3,4]]"
   ]
  },
  {
   "cell_type": "code",
   "execution_count": 8,
   "metadata": {},
   "outputs": [],
   "source": [
    "ar2 = numpy.array(l2)"
   ]
  },
  {
   "cell_type": "code",
   "execution_count": 9,
   "metadata": {},
   "outputs": [
    {
     "output_type": "execute_result",
     "data": {
      "text/plain": [
       "array([[ 1,  4,  8, 12],\n",
       "       [ 1,  2,  3,  4]])"
      ]
     },
     "metadata": {},
     "execution_count": 9
    }
   ],
   "source": [
    "ar2"
   ]
  },
  {
   "cell_type": "code",
   "execution_count": 10,
   "metadata": {},
   "outputs": [],
   "source": [
    "#properties of 2-d \n",
    "#on viewing, notice the 2 square brackets \n"
   ]
  },
  {
   "cell_type": "code",
   "execution_count": 11,
   "metadata": {},
   "outputs": [],
   "source": [
    "#simplify your imports by renaming \n",
    "import numpy as np "
   ]
  },
  {
   "cell_type": "code",
   "execution_count": 13,
   "metadata": {},
   "outputs": [
    {
     "output_type": "execute_result",
     "data": {
      "text/plain": [
       "array([0, 1, 2, 3, 4, 5, 6, 7, 8, 9])"
      ]
     },
     "metadata": {},
     "execution_count": 13
    }
   ],
   "source": [
    "np.arange(0, 10) #creates an array with the range specified -1 \n"
   ]
  },
  {
   "cell_type": "code",
   "execution_count": 14,
   "metadata": {},
   "outputs": [
    {
     "output_type": "execute_result",
     "data": {
      "text/plain": [
       "array([ 0,  2,  4,  6,  8, 10])"
      ]
     },
     "metadata": {},
     "execution_count": 14
    }
   ],
   "source": [
    "#optional 3 arg, for the STEP SIZE  \n",
    "\n",
    "np.arange(0,11, 2)"
   ]
  },
  {
   "cell_type": "code",
   "execution_count": 15,
   "metadata": {},
   "outputs": [],
   "source": [
    "#other arrays you can create are:\n",
    "# array of zeros\n",
    "# array of ones  "
   ]
  },
  {
   "cell_type": "code",
   "execution_count": 16,
   "metadata": {},
   "outputs": [
    {
     "output_type": "execute_result",
     "data": {
      "text/plain": [
       "array([0., 0., 0., 0., 0.])"
      ]
     },
     "metadata": {},
     "execution_count": 16
    }
   ],
   "source": [
    "np.zeros(5)"
   ]
  },
  {
   "cell_type": "code",
   "execution_count": 17,
   "metadata": {},
   "outputs": [
    {
     "output_type": "execute_result",
     "data": {
      "text/plain": [
       "array([1., 1., 1., 1., 1.])"
      ]
     },
     "metadata": {},
     "execution_count": 17
    }
   ],
   "source": [
    "np.ones(5)"
   ]
  },
  {
   "cell_type": "code",
   "execution_count": 18,
   "metadata": {},
   "outputs": [
    {
     "output_type": "execute_result",
     "data": {
      "text/plain": [
       "array([[1., 1., 1., 1.],\n",
       "       [1., 1., 1., 1.],\n",
       "       [1., 1., 1., 1.]])"
      ]
     },
     "metadata": {},
     "execution_count": 18
    }
   ],
   "source": [
    "#creating a 2-d array with ones \n",
    "\n",
    "np.ones((3,4)) #3rows, 4values each"
   ]
  },
  {
   "cell_type": "code",
   "execution_count": 19,
   "metadata": {},
   "outputs": [],
   "source": [
    "#create other arrays using linspace method\n",
    "# np.linspace(lower_bound, upper_bound,no_of_values)"
   ]
  },
  {
   "cell_type": "code",
   "execution_count": 20,
   "metadata": {},
   "outputs": [
    {
     "output_type": "execute_result",
     "data": {
      "text/plain": [
       "array([ 1.        ,  1.1010101 ,  1.2020202 ,  1.3030303 ,  1.4040404 ,\n",
       "        1.50505051,  1.60606061,  1.70707071,  1.80808081,  1.90909091,\n",
       "        2.01010101,  2.11111111,  2.21212121,  2.31313131,  2.41414141,\n",
       "        2.51515152,  2.61616162,  2.71717172,  2.81818182,  2.91919192,\n",
       "        3.02020202,  3.12121212,  3.22222222,  3.32323232,  3.42424242,\n",
       "        3.52525253,  3.62626263,  3.72727273,  3.82828283,  3.92929293,\n",
       "        4.03030303,  4.13131313,  4.23232323,  4.33333333,  4.43434343,\n",
       "        4.53535354,  4.63636364,  4.73737374,  4.83838384,  4.93939394,\n",
       "        5.04040404,  5.14141414,  5.24242424,  5.34343434,  5.44444444,\n",
       "        5.54545455,  5.64646465,  5.74747475,  5.84848485,  5.94949495,\n",
       "        6.05050505,  6.15151515,  6.25252525,  6.35353535,  6.45454545,\n",
       "        6.55555556,  6.65656566,  6.75757576,  6.85858586,  6.95959596,\n",
       "        7.06060606,  7.16161616,  7.26262626,  7.36363636,  7.46464646,\n",
       "        7.56565657,  7.66666667,  7.76767677,  7.86868687,  7.96969697,\n",
       "        8.07070707,  8.17171717,  8.27272727,  8.37373737,  8.47474747,\n",
       "        8.57575758,  8.67676768,  8.77777778,  8.87878788,  8.97979798,\n",
       "        9.08080808,  9.18181818,  9.28282828,  9.38383838,  9.48484848,\n",
       "        9.58585859,  9.68686869,  9.78787879,  9.88888889,  9.98989899,\n",
       "       10.09090909, 10.19191919, 10.29292929, 10.39393939, 10.49494949,\n",
       "       10.5959596 , 10.6969697 , 10.7979798 , 10.8989899 , 11.        ])"
      ]
     },
     "metadata": {},
     "execution_count": 20
    }
   ],
   "source": [
    "np.linspace(1,11,100)"
   ]
  },
  {
   "cell_type": "code",
   "execution_count": 21,
   "metadata": {},
   "outputs": [],
   "source": [
    "#Question \n",
    "#Is the array generated above 1-d or 2-d ?\n",
    "# Answer = 1-d (only 1 square bracket)"
   ]
  },
  {
   "cell_type": "code",
   "execution_count": 22,
   "metadata": {},
   "outputs": [
    {
     "output_type": "execute_result",
     "data": {
      "text/plain": [
       "(100,)"
      ]
     },
     "metadata": {},
     "execution_count": 22
    }
   ],
   "source": [
    "#check the type of array using the shape method \n",
    "ar3 = np.linspace(1,11,100)\n",
    "ar3.shape"
   ]
  },
  {
   "cell_type": "code",
   "execution_count": 23,
   "metadata": {},
   "outputs": [
    {
     "output_type": "execute_result",
     "data": {
      "text/plain": [
       "(2, 4)"
      ]
     },
     "metadata": {},
     "execution_count": 23
    }
   ],
   "source": [
    "#Check shape of ar2 (2-d)\n",
    "ar2.shape"
   ]
  },
  {
   "cell_type": "code",
   "execution_count": 24,
   "metadata": {},
   "outputs": [],
   "source": [
    "#check datatypes using the dtype() method "
   ]
  },
  {
   "cell_type": "code",
   "execution_count": 25,
   "metadata": {},
   "outputs": [
    {
     "output_type": "stream",
     "name": "stdout",
     "text": [
      "int32\n"
     ]
    }
   ],
   "source": [
    "print(ar2.dtype)"
   ]
  },
  {
   "cell_type": "code",
   "execution_count": 26,
   "metadata": {},
   "outputs": [
    {
     "output_type": "stream",
     "name": "stdout",
     "text": [
      "float64\n"
     ]
    }
   ],
   "source": [
    "print(ar3.dtype)"
   ]
  },
  {
   "cell_type": "code",
   "execution_count": 30,
   "metadata": {},
   "outputs": [
    {
     "output_type": "execute_result",
     "data": {
      "text/plain": [
       "1"
      ]
     },
     "metadata": {},
     "execution_count": 30
    }
   ],
   "source": [
    "#find the max and min values in an array using the \n",
    "# max and min functns\n",
    "\n",
    "ar2.min()"
   ]
  },
  {
   "cell_type": "code",
   "execution_count": 29,
   "metadata": {},
   "outputs": [
    {
     "output_type": "execute_result",
     "data": {
      "text/plain": [
       "11.0"
      ]
     },
     "metadata": {},
     "execution_count": 29
    }
   ],
   "source": [
    "ar3.max()"
   ]
  },
  {
   "cell_type": "code",
   "execution_count": 32,
   "metadata": {},
   "outputs": [
    {
     "output_type": "execute_result",
     "data": {
      "text/plain": [
       "0"
      ]
     },
     "metadata": {},
     "execution_count": 32
    }
   ],
   "source": [
    "#find the position using argmax or argmin\n",
    "# \n",
    "# ar3.argmax()\n",
    "ar3.argmax() \n",
    "ar3.argmin()"
   ]
  },
  {
   "cell_type": "code",
   "execution_count": 33,
   "metadata": {},
   "outputs": [],
   "source": [
    "#Generating random values (btw 0 and 1)\n",
    "rd1 = np.random.rand(3)"
   ]
  },
  {
   "cell_type": "code",
   "execution_count": 34,
   "metadata": {},
   "outputs": [
    {
     "output_type": "stream",
     "name": "stdout",
     "text": [
      "[0.46536436 0.84524526 0.35491699]\n"
     ]
    }
   ],
   "source": [
    "print(rd1) #generates 3 random values btw 0 and 1 as a single 1-d array "
   ]
  },
  {
   "cell_type": "code",
   "execution_count": 35,
   "metadata": {},
   "outputs": [
    {
     "output_type": "stream",
     "name": "stdout",
     "text": [
      "[[0.02964978 0.38375028 0.46356677]\n [0.72018331 0.65555406 0.6392894 ]\n [0.93185659 0.54488671 0.75294134]]\n"
     ]
    }
   ],
   "source": [
    "rd2 = np.random.rand(3,3)\n",
    "print(rd2) #generates a 2-d array with 3 random values / 3 rows "
   ]
  },
  {
   "cell_type": "code",
   "execution_count": 36,
   "metadata": {},
   "outputs": [
    {
     "output_type": "stream",
     "name": "stdout",
     "text": [
      "[[ 0.60555748 -1.49086657  0.07788612]\n [ 0.04974282  0.98877465  0.53039738]\n [ 0.23530422  0.69039892  1.87203366]]\n"
     ]
    }
   ],
   "source": [
    "#create a random, normal distribution \n",
    "rd3 = np.random.randn(3,3)\n",
    "print(rd3)"
   ]
  },
  {
   "cell_type": "code",
   "execution_count": 37,
   "metadata": {},
   "outputs": [
    {
     "output_type": "stream",
     "name": "stdout",
     "text": [
      "[97 86 21 13 89 57 20 83  7 85]\n"
     ]
    }
   ],
   "source": [
    "#create a random, normal distribution \n",
    "rd4 = np.random.randint(1,100,10) #starting/ base value, max value, no_of_total values \n",
    "print(rd4)"
   ]
  },
  {
   "cell_type": "code",
   "execution_count": 38,
   "metadata": {},
   "outputs": [],
   "source": [
    "#Manipulating arrays \n",
    "#Example \n",
    "ar4 = np.arange(5,101,5)"
   ]
  },
  {
   "cell_type": "code",
   "execution_count": 39,
   "metadata": {},
   "outputs": [
    {
     "output_type": "execute_result",
     "data": {
      "text/plain": [
       "array([  5,  10,  15,  20,  25,  30,  35,  40,  45,  50,  55,  60,  65,\n",
       "        70,  75,  80,  85,  90,  95, 100])"
      ]
     },
     "metadata": {},
     "execution_count": 39
    }
   ],
   "source": [
    "ar4 \n",
    "#result is a 1-d array with 20 values \n",
    "#this is a vector "
   ]
  },
  {
   "cell_type": "code",
   "execution_count": 40,
   "metadata": {},
   "outputs": [
    {
     "output_type": "execute_result",
     "data": {
      "text/plain": [
       "array([[  5,  10,  15,  20],\n",
       "       [ 25,  30,  35,  40],\n",
       "       [ 45,  50,  55,  60],\n",
       "       [ 65,  70,  75,  80],\n",
       "       [ 85,  90,  95, 100]])"
      ]
     },
     "metadata": {},
     "execution_count": 40
    }
   ],
   "source": [
    "ar4.reshape(5,4)\n",
    "#reshape to a 2-d array with same 20 values \n",
    "# rows 5, values per row 4 \n",
    "# this is a matrix"
   ]
  },
  {
   "cell_type": "code",
   "execution_count": 41,
   "metadata": {},
   "outputs": [
    {
     "output_type": "execute_result",
     "data": {
      "text/plain": [
       "(20,)"
      ]
     },
     "metadata": {},
     "execution_count": 41
    }
   ],
   "source": [
    "#Use the shape method to confirm \n",
    "ar4.shape"
   ]
  },
  {
   "cell_type": "code",
   "execution_count": 42,
   "metadata": {},
   "outputs": [],
   "source": [
    "ar4b = ar4.reshape(5,4)"
   ]
  },
  {
   "cell_type": "code",
   "execution_count": 43,
   "metadata": {},
   "outputs": [
    {
     "output_type": "execute_result",
     "data": {
      "text/plain": [
       "20"
      ]
     },
     "metadata": {},
     "execution_count": 43
    }
   ],
   "source": [
    "ar4b.size"
   ]
  },
  {
   "cell_type": "code",
   "execution_count": 44,
   "metadata": {},
   "outputs": [
    {
     "output_type": "execute_result",
     "data": {
      "text/plain": [
       "(5, 4)"
      ]
     },
     "metadata": {},
     "execution_count": 44
    }
   ],
   "source": [
    "ar4b.shape"
   ]
  },
  {
   "cell_type": "code",
   "execution_count": 45,
   "metadata": {},
   "outputs": [
    {
     "output_type": "execute_result",
     "data": {
      "text/plain": [
       "array([[35, 40],\n",
       "       [55, 60]])"
      ]
     },
     "metadata": {},
     "execution_count": 45
    }
   ],
   "source": [
    "#slicing \n",
    "#index numbering is key \n",
    "ar4b[1:3,2:4]"
   ]
  },
  {
   "cell_type": "code",
   "execution_count": 46,
   "metadata": {},
   "outputs": [],
   "source": [
    "#1:3 signifies rows \n",
    "#sliced from the 1 row to the 3rd row, 3 excluded so just row 1 and 2.import\n",
    "#Note rows start from zero, 0 "
   ]
  },
  {
   "cell_type": "code",
   "execution_count": 47,
   "metadata": {},
   "outputs": [],
   "source": [
    "#2:4 signifies cols\n",
    "#sliced from col 2 to 4, col 4 excluded so just 2 and 3. \n",
    "#Cols also start from index 0\n"
   ]
  },
  {
   "cell_type": "code",
   "execution_count": 48,
   "metadata": {},
   "outputs": [
    {
     "output_type": "execute_result",
     "data": {
      "text/plain": [
       "array([65, 70, 75, 80])"
      ]
     },
     "metadata": {},
     "execution_count": 48
    }
   ],
   "source": [
    "#more slicing \n",
    "ar4b[3,:] #returns the entire 4th row "
   ]
  },
  {
   "cell_type": "code",
   "execution_count": 49,
   "metadata": {},
   "outputs": [],
   "source": [
    "arrslice = ar4b[3,:] #holds sam values and structure "
   ]
  },
  {
   "cell_type": "code",
   "execution_count": 52,
   "metadata": {},
   "outputs": [
    {
     "output_type": "execute_result",
     "data": {
      "text/plain": [
       "array([100, 100, 100, 100])"
      ]
     },
     "metadata": {},
     "execution_count": 52
    }
   ],
   "source": [
    "#change values by:\n",
    "arrslice[:] = 100\n",
    "arrslice"
   ]
  },
  {
   "cell_type": "code",
   "execution_count": 53,
   "metadata": {},
   "outputs": [
    {
     "output_type": "execute_result",
     "data": {
      "text/plain": [
       "array([[  5,  10,  15,  20],\n",
       "       [ 25,  30,  35,  40],\n",
       "       [ 45,  50,  55,  60],\n",
       "       [100, 100, 100, 100],\n",
       "       [ 85,  90,  95, 100]])"
      ]
     },
     "metadata": {},
     "execution_count": 53
    }
   ],
   "source": [
    "#this action will change the original array as it is not a true copy \n",
    "ar4b"
   ]
  },
  {
   "cell_type": "code",
   "execution_count": 63,
   "metadata": {},
   "outputs": [],
   "source": [
    "#Make a true copy \n",
    "ar4c = ar4.reshape(5,4)\n",
    "arrcopy = ar4c.copy() #true copy "
   ]
  },
  {
   "cell_type": "code",
   "execution_count": 64,
   "metadata": {},
   "outputs": [
    {
     "output_type": "execute_result",
     "data": {
      "text/plain": [
       "array([[  5,  10,  15,  20],\n",
       "       [ 25,  30,  35,  40],\n",
       "       [ 45,  50,  55,  60],\n",
       "       [100, 100, 100, 100],\n",
       "       [ 85,  90,  95, 100]])"
      ]
     },
     "metadata": {},
     "execution_count": 64
    }
   ],
   "source": [
    "#test the copied arrays\n",
    "arrcopy\n"
   ]
  },
  {
   "cell_type": "code",
   "execution_count": 65,
   "metadata": {},
   "outputs": [],
   "source": [
    "arrcopy[:] = 100"
   ]
  },
  {
   "cell_type": "code",
   "execution_count": 66,
   "metadata": {},
   "outputs": [
    {
     "output_type": "execute_result",
     "data": {
      "text/plain": [
       "array([[100, 100, 100, 100],\n",
       "       [100, 100, 100, 100],\n",
       "       [100, 100, 100, 100],\n",
       "       [100, 100, 100, 100],\n",
       "       [100, 100, 100, 100]])"
      ]
     },
     "metadata": {},
     "execution_count": 66
    }
   ],
   "source": [
    "arrcopy"
   ]
  },
  {
   "cell_type": "code",
   "execution_count": 67,
   "metadata": {},
   "outputs": [
    {
     "output_type": "execute_result",
     "data": {
      "text/plain": [
       "array([  5,  10,  15,  20,  25,  30,  35,  40,  45,  50,  55,  60, 100,\n",
       "       100, 100, 100,  85,  90,  95, 100])"
      ]
     },
     "metadata": {},
     "execution_count": 67
    }
   ],
   "source": [
    "ar4"
   ]
  },
  {
   "cell_type": "code",
   "execution_count": 68,
   "metadata": {},
   "outputs": [
    {
     "output_type": "execute_result",
     "data": {
      "text/plain": [
       "array([False, False, False, False, False, False, False, False, False,\n",
       "       False,  True,  True,  True,  True,  True,  True,  True,  True,\n",
       "        True,  True])"
      ]
     },
     "metadata": {},
     "execution_count": 68
    }
   ],
   "source": [
    "#comparison operators \n",
    "ar4 > 50"
   ]
  },
  {
   "cell_type": "code",
   "execution_count": 70,
   "metadata": {},
   "outputs": [],
   "source": [
    "#create 2 arrays and test arithmetic operations \n",
    "arr1 = np.arange(0,11)\n",
    "arr2 = np.arange(0,21,2)"
   ]
  },
  {
   "cell_type": "code",
   "execution_count": 72,
   "metadata": {},
   "outputs": [
    {
     "output_type": "execute_result",
     "data": {
      "text/plain": [
       "11"
      ]
     },
     "metadata": {},
     "execution_count": 72
    }
   ],
   "source": [
    "#check the size to make sure they are same \n",
    "arr2.size"
   ]
  },
  {
   "cell_type": "code",
   "execution_count": 73,
   "metadata": {},
   "outputs": [
    {
     "output_type": "execute_result",
     "data": {
      "text/plain": [
       "array([ 0,  3,  6,  9, 12, 15, 18, 21, 24, 27, 30])"
      ]
     },
     "metadata": {},
     "execution_count": 73
    }
   ],
   "source": [
    "arr1 + arr2"
   ]
  },
  {
   "cell_type": "code",
   "execution_count": 74,
   "metadata": {},
   "outputs": [
    {
     "output_type": "execute_result",
     "data": {
      "text/plain": [
       "array([  0,   2,   8,  18,  32,  50,  72,  98, 128, 162, 200])"
      ]
     },
     "metadata": {},
     "execution_count": 74
    }
   ],
   "source": [
    "\n",
    "arr1 * arr2"
   ]
  },
  {
   "cell_type": "code",
   "execution_count": 75,
   "metadata": {},
   "outputs": [
    {
     "output_type": "execute_result",
     "data": {
      "text/plain": [
       "array([  0,  -1,  -2,  -3,  -4,  -5,  -6,  -7,  -8,  -9, -10])"
      ]
     },
     "metadata": {},
     "execution_count": 75
    }
   ],
   "source": [
    "arr1 - arr2"
   ]
  },
  {
   "cell_type": "code",
   "execution_count": 76,
   "metadata": {},
   "outputs": [
    {
     "output_type": "execute_result",
     "data": {
      "text/plain": [
       "array([nan, 0.5, 0.5, 0.5, 0.5, 0.5, 0.5, 0.5, 0.5, 0.5, 0.5])"
      ]
     },
     "metadata": {},
     "execution_count": 76
    }
   ],
   "source": [
    "arr1/arr2"
   ]
  },
  {
   "cell_type": "code",
   "execution_count": 77,
   "metadata": {},
   "outputs": [],
   "source": []
  },
  {
   "cell_type": "code",
   "execution_count": 80,
   "metadata": {},
   "outputs": [
    {
     "output_type": "error",
     "ename": "ZeroDivisionError",
     "evalue": "division by zero",
     "traceback": [
      "\u001b[1;31m---------------------------------------------------------------------------\u001b[0m",
      "\u001b[1;31mZeroDivisionError\u001b[0m                         Traceback (most recent call last)",
      "\u001b[1;32m<ipython-input-80-9ab73e148374>\u001b[0m in \u001b[0;36m<module>\u001b[1;34m\u001b[0m\n\u001b[1;32m----> 1\u001b[1;33m \u001b[1;36m0\u001b[0m\u001b[1;33m/\u001b[0m\u001b[1;36m0\u001b[0m\u001b[1;33m\u001b[0m\u001b[1;33m\u001b[0m\u001b[0m\n\u001b[0m",
      "\u001b[1;31mZeroDivisionError\u001b[0m: division by zero"
     ]
    }
   ],
   "source": []
  },
  {
   "cell_type": "code",
   "execution_count": null,
   "metadata": {},
   "outputs": [],
   "source": []
  }
 ]
}