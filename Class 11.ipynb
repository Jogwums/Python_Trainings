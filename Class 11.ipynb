{
 "cells": [
  {
   "cell_type": "markdown",
   "metadata": {},
   "source": [
    "# Decorators in Python"
   ]
  },
  {
   "cell_type": "markdown",
   "metadata": {},
   "source": [
    "#It is a design pattern\n",
    "#A decorator allows a user to add new functionality to an existing object\n",
    "#without modifying it's structure\n",
    "#Usually decorators are called before the functionyou want to decorate "
   ]
  },
  {
   "cell_type": "markdown",
   "metadata": {},
   "source": [
    "# Assigning Functions to Variables"
   ]
  },
  {
   "cell_type": "code",
   "execution_count": 1,
   "metadata": {},
   "outputs": [],
   "source": [
    "#functions in python they are first class citizens. \n",
    "#They support operations such as being passed as an arg, returned from a function,\n",
    "#modified, and assigned to variable "
   ]
  },
  {
   "cell_type": "code",
   "execution_count": 2,
   "metadata": {},
   "outputs": [
    {
     "data": {
      "text/plain": [
       "10"
      ]
     },
     "execution_count": 2,
     "metadata": {},
     "output_type": "execute_result"
    }
   ],
   "source": [
    "#Example \n",
    "#Assigning a function to a variable\n",
    "\n",
    "def plus_one(num):\n",
    "    return num +1\n",
    "\n",
    "add_one = plus_one\n",
    "\n",
    "add_one(9)"
   ]
  },
  {
   "cell_type": "code",
   "execution_count": 6,
   "metadata": {},
   "outputs": [
    {
     "data": {
      "text/plain": [
       "8"
      ]
     },
     "execution_count": 6,
     "metadata": {},
     "output_type": "execute_result"
    }
   ],
   "source": [
    "#Define a function inside another function\n",
    "\n",
    "\n",
    "def plus_one(num):\n",
    "    def add_one(num):\n",
    "        return num + 1\n",
    "    \n",
    "    result = add_one(num)\n",
    "    return result\n",
    "\n",
    "plus_one(7)"
   ]
  },
  {
   "cell_type": "code",
   "execution_count": 7,
   "metadata": {},
   "outputs": [
    {
     "data": {
      "text/plain": [
       "1"
      ]
     },
     "execution_count": 7,
     "metadata": {},
     "output_type": "execute_result"
    }
   ],
   "source": [
    "#Passing Functions as Arguments to other Functions\n",
    "\n",
    "def plus_one(num):\n",
    "    return + 1\n",
    "\n",
    "def function_call(function):\n",
    "    number_to_add = 5\n",
    "    return function(number_to_add)\n",
    "\n",
    "function_call(plus_one)"
   ]
  },
  {
   "cell_type": "code",
   "execution_count": 8,
   "metadata": {},
   "outputs": [
    {
     "data": {
      "text/plain": [
       "'Hi'"
      ]
     },
     "execution_count": 8,
     "metadata": {},
     "output_type": "execute_result"
    }
   ],
   "source": [
    "#Functions returning other functions\n",
    "\n",
    "def hello_function():\n",
    "    def say_hi():\n",
    "        return \"Hi\"\n",
    "    return say_hi\n",
    "\n",
    "hello = hello_function()\n",
    "\n",
    "hello()"
   ]
  },
  {
   "cell_type": "code",
   "execution_count": 1,
   "metadata": {},
   "outputs": [
    {
     "name": "stdout",
     "output_type": "stream",
     "text": [
      "Some rndom message\n"
     ]
    }
   ],
   "source": [
    "#A nested function can have access to the enclosing functions outer scope\n",
    "\n",
    "\n",
    "def print_message(message):\n",
    "    \"Enclosing Function\"\n",
    "    def message_sender():\n",
    "        \"Nested Function\"\n",
    "        print(message)\n",
    "        \n",
    "    message_sender()\n",
    "    \n",
    "print_message(\"Some random message\")"
   ]
  },
  {
   "cell_type": "markdown",
   "metadata": {},
   "source": [
    "# Creating Decorators "
   ]
  },
  {
   "cell_type": "code",
   "execution_count": 2,
   "metadata": {},
   "outputs": [],
   "source": [
    "#Create a decorator that will conver a sntence to uppercase\n",
    "\n",
    "\n",
    "def uppercase_decorator(function):\n",
    "    def wrapper():\n",
    "        func = function()\n",
    "        make_uppercase = func.upper()\n",
    "        return make_uppercase\n",
    "    \n",
    "    return wrapper"
   ]
  },
  {
   "cell_type": "code",
   "execution_count": 3,
   "metadata": {},
   "outputs": [
    {
     "data": {
      "text/plain": [
       "'HELLO MY NAME IS JONATHAN'"
      ]
     },
     "execution_count": 3,
     "metadata": {},
     "output_type": "execute_result"
    }
   ],
   "source": [
    "#Use the uppercase_decorator\n",
    "\n",
    "def something():\n",
    "    return 'hello my name is Jonathan'\n",
    "\n",
    "decorate = uppercase_decorator(something)\n",
    "\n",
    "decorate()"
   ]
  },
  {
   "cell_type": "code",
   "execution_count": 5,
   "metadata": {},
   "outputs": [
    {
     "data": {
      "text/plain": [
       "'HELLO THERE'"
      ]
     },
     "execution_count": 5,
     "metadata": {},
     "output_type": "execute_result"
    }
   ],
   "source": [
    "#Pythonic way of calling decorators \n",
    "@uppercase_decorator\n",
    "def something2():\n",
    "    return \"Hello there\"\n",
    "\n",
    "something2()"
   ]
  },
  {
   "cell_type": "code",
   "execution_count": 6,
   "metadata": {},
   "outputs": [],
   "source": [
    "#Create another decorator, to split a string into a list \n",
    "\n",
    "def split_string(function):\n",
    "    def wrapper():\n",
    "        func = function()\n",
    "        splitted_string = func.split()\n",
    "        return splitted_string\n",
    "    \n",
    "    return wrapper"
   ]
  },
  {
   "cell_type": "code",
   "execution_count": 9,
   "metadata": {},
   "outputs": [
    {
     "data": {
      "text/plain": [
       "['HELLO', 'THERE']"
      ]
     },
     "execution_count": 9,
     "metadata": {},
     "output_type": "execute_result"
    }
   ],
   "source": [
    "#When you apply multiple decorators to a single function, the decorators\n",
    "#are applied from bottom up \n",
    "\n",
    "@split_string\n",
    "@uppercase_decorator\n",
    "def say_hi():\n",
    "    return 'hello there'\n",
    "\n",
    "say_hi()"
   ]
  },
  {
   "cell_type": "code",
   "execution_count": 8,
   "metadata": {},
   "outputs": [
    {
     "ename": "AttributeError",
     "evalue": "'list' object has no attribute 'upper'",
     "output_type": "error",
     "traceback": [
      "\u001b[1;31m---------------------------------------------------------------------------\u001b[0m",
      "\u001b[1;31mAttributeError\u001b[0m                            Traceback (most recent call last)",
      "\u001b[1;32m<ipython-input-8-bb7083fef98d>\u001b[0m in \u001b[0;36m<module>\u001b[1;34m\u001b[0m\n\u001b[0;32m      4\u001b[0m     \u001b[1;32mreturn\u001b[0m \u001b[1;34m'hello there'\u001b[0m\u001b[1;33m\u001b[0m\u001b[1;33m\u001b[0m\u001b[0m\n\u001b[0;32m      5\u001b[0m \u001b[1;33m\u001b[0m\u001b[0m\n\u001b[1;32m----> 6\u001b[1;33m \u001b[0msay_hi\u001b[0m\u001b[1;33m(\u001b[0m\u001b[1;33m)\u001b[0m\u001b[1;33m\u001b[0m\u001b[1;33m\u001b[0m\u001b[0m\n\u001b[0m",
      "\u001b[1;32m<ipython-input-2-57551b6ab88b>\u001b[0m in \u001b[0;36mwrapper\u001b[1;34m()\u001b[0m\n\u001b[0;32m      5\u001b[0m     \u001b[1;32mdef\u001b[0m \u001b[0mwrapper\u001b[0m\u001b[1;33m(\u001b[0m\u001b[1;33m)\u001b[0m\u001b[1;33m:\u001b[0m\u001b[1;33m\u001b[0m\u001b[1;33m\u001b[0m\u001b[0m\n\u001b[0;32m      6\u001b[0m         \u001b[0mfunc\u001b[0m \u001b[1;33m=\u001b[0m \u001b[0mfunction\u001b[0m\u001b[1;33m(\u001b[0m\u001b[1;33m)\u001b[0m\u001b[1;33m\u001b[0m\u001b[1;33m\u001b[0m\u001b[0m\n\u001b[1;32m----> 7\u001b[1;33m         \u001b[0mmake_uppercase\u001b[0m \u001b[1;33m=\u001b[0m \u001b[0mfunc\u001b[0m\u001b[1;33m.\u001b[0m\u001b[0mupper\u001b[0m\u001b[1;33m(\u001b[0m\u001b[1;33m)\u001b[0m\u001b[1;33m\u001b[0m\u001b[1;33m\u001b[0m\u001b[0m\n\u001b[0m\u001b[0;32m      8\u001b[0m         \u001b[1;32mreturn\u001b[0m \u001b[0mmake_uppercase\u001b[0m\u001b[1;33m\u001b[0m\u001b[1;33m\u001b[0m\u001b[0m\n\u001b[0;32m      9\u001b[0m \u001b[1;33m\u001b[0m\u001b[0m\n",
      "\u001b[1;31mAttributeError\u001b[0m: 'list' object has no attribute 'upper'"
     ]
    }
   ],
   "source": [
    "@uppercase_decorator\n",
    "@split_string\n",
    "def say_hi():\n",
    "    return 'hello there'\n",
    "\n",
    "say_hi()"
   ]
  },
  {
   "cell_type": "markdown",
   "metadata": {},
   "source": [
    "# Defining a decorator that accepts an argument"
   ]
  },
  {
   "cell_type": "code",
   "execution_count": 12,
   "metadata": {},
   "outputs": [],
   "source": [
    "def decorator_with_args(function):\n",
    "    def wrapper_with_args(arg1, arg2):\n",
    "        print(\"My arguments are: {0}, {1}\".format(arg1, arg2))\n",
    "        function(arg1, arg2)\n",
    "    return wrapper_with_args\n",
    "\n"
   ]
  },
  {
   "cell_type": "code",
   "execution_count": 11,
   "metadata": {},
   "outputs": [
    {
     "name": "stdout",
     "output_type": "stream",
     "text": [
      "My arguments are: Lagos, London\n",
      "Cities I love are Lagos and London\n"
     ]
    }
   ],
   "source": [
    "@decorator_with_args\n",
    "def cities(city_one, city_two):\n",
    "    print(\"Cities I love are {0} and {1}\".format(city_one, city_two))\n",
    "    \n",
    "cities(\"Lagos\",\"London\")"
   ]
  },
  {
   "cell_type": "markdown",
   "metadata": {},
   "source": [
    "# Defining General Purpose Decorators"
   ]
  },
  {
   "cell_type": "code",
   "execution_count": 13,
   "metadata": {},
   "outputs": [
    {
     "name": "stdout",
     "output_type": "stream",
     "text": [
      "No arguments here. \n"
     ]
    }
   ],
   "source": [
    "#this can be done by using *args and **kwargs\n",
    "\n",
    "def a_decorator_passing_arbitrary_arguments(function_to_decorate):\n",
    "    def a_wrapper_accepting_arbitrary_arguments(*args, **kwargs):\n",
    "        print('The positional arguments are', args)\n",
    "        print('The keyword arguments are', kwargs)\n",
    "        function_to_decorate(*args)\n",
    "    return a_wrapper_accepting_arbitrary_arguments\n",
    "\n",
    "\n",
    "def function_with_no_argument():\n",
    "    print(\"No arguments here. \")\n",
    "    \n",
    "function_with_no_argument()"
   ]
  },
  {
   "cell_type": "code",
   "execution_count": 18,
   "metadata": {},
   "outputs": [
    {
     "name": "stdout",
     "output_type": "stream",
     "text": [
      "The positional arguments are ()\n",
      "The keyword arguments are {}\n",
      "No arguments here. \n"
     ]
    }
   ],
   "source": [
    "@a_decorator_passing_arbitrary_arguments\n",
    "def function_with_no_argument():\n",
    "    print(\"No arguments here. \")\n",
    "    \n",
    "function_with_no_argument()"
   ]
  },
  {
   "cell_type": "code",
   "execution_count": 16,
   "metadata": {},
   "outputs": [
    {
     "name": "stdout",
     "output_type": "stream",
     "text": [
      "The positional arguments are (5, 6, 8)\n",
      "The keyword arguments are {}\n",
      "5 6 8\n"
     ]
    }
   ],
   "source": [
    "@a_decorator_passing_arbitrary_arguments\n",
    "def function_with_arguments(a,b,c):\n",
    "    print(a, b, c)\n",
    "\n",
    "function_with_arguments(5,6,8)"
   ]
  },
  {
   "cell_type": "code",
   "execution_count": 19,
   "metadata": {},
   "outputs": [
    {
     "name": "stdout",
     "output_type": "stream",
     "text": [
      "The positional arguments are ()\n",
      "The keyword arguments are {'first_name': 'Joe', 'last_name': 'King'}\n",
      "This has shown keyword arguments\n"
     ]
    }
   ],
   "source": [
    "@a_decorator_passing_arbitrary_arguments\n",
    "def function_with_keyword_arguments():\n",
    "    print(\"This has shown keyword arguments\")\n",
    "    \n",
    "function_with_keyword_arguments(first_name=\"Joe\", last_name=\"King\")"
   ]
  },
  {
   "cell_type": "markdown",
   "metadata": {},
   "source": [
    "# Passing Arguments to the Decorator"
   ]
  },
  {
   "cell_type": "code",
   "execution_count": 1,
   "metadata": {},
   "outputs": [],
   "source": [
    "def decorator_maker_with_arguments(decorator_arg1,decorator_arg2,decorator_arg3):\n",
    "    def decorator(func):\n",
    "        def wrapper(function_arg1,function_arg2,function_arg3):\n",
    "            \"This is the wrapper function\"\n",
    "            print(\"The wrapper can access all the variables\\n\"\n",
    "                  \"\\t- from the decorator maker: {0} {1} {2}\\n\"\n",
    "                  \"\\t- from the function call: {3} {4} {5}\\n\"\n",
    "                  \"and pass them to the decorated function\"\n",
    "                  .format(decorator_arg1,decorator_arg2,decorator_arg3,\n",
    "                          function_arg1,function_arg2,function_arg3))\n",
    "            return func(function_arg1,function_arg2,function_arg3)\n",
    "        \n",
    "        return wrapper\n",
    "    \n",
    "    return decorator\n",
    "        "
   ]
  },
  {
   "cell_type": "code",
   "execution_count": 6,
   "metadata": {},
   "outputs": [
    {
     "name": "stdout",
     "output_type": "stream",
     "text": [
      "The wrapper can access all the variables\n",
      "\t- from the decorator maker: Pandas Numpy Scikit-learn\n",
      "\t- from the function call: Pandas Science Tools\n",
      "and pass them to the decorated function\n",
      "This is the decorated function and it only knows its arguments Pandas Science Tools\n"
     ]
    }
   ],
   "source": [
    "pandas = \"Pandas\"\n",
    "\n",
    "@decorator_maker_with_arguments(pandas, \"Numpy\", \"Scikit-learn\")\n",
    "\n",
    "def decorated_func(function_arg1,function_arg2,function_arg3):\n",
    "    print(\"This is the decorated function and it only knows its arguments {0}\" \" {1}\" \" {2}\".format(function_arg1,function_arg2,function_arg3))\n",
    "    \n",
    "decorated_func(pandas, \"Science\", \"Tools\")"
   ]
  },
  {
   "cell_type": "code",
   "execution_count": null,
   "metadata": {},
   "outputs": [],
   "source": []
  },
  {
   "cell_type": "code",
   "execution_count": 10,
   "metadata": {},
   "outputs": [],
   "source": [
    "#Using more decorators\n",
    "\n",
    "from time import time\n",
    "from typing import Callable\n",
    "\n",
    "def speed_test(func: Callable) -> Callable:\n",
    "    def wrapper(*args, **kwargs) -> float:\n",
    "        start_time = time()\n",
    "        result = func(*args, **kwargs)\n",
    "        end_time = time()\n",
    "        time_elapsed = (end_time - start_time)\n",
    "        print(f\"This function took: {time_elapsed} seconds to run\")\n",
    "        return result\n",
    "    return wrapper\n",
    "        "
   ]
  },
  {
   "cell_type": "code",
   "execution_count": 11,
   "metadata": {},
   "outputs": [
    {
     "name": "stdout",
     "output_type": "stream",
     "text": [
      "This function took: 0.0 seconds to run\n",
      "This function took: 0.0 seconds to run\n",
      "This function took: 0.0 seconds to run\n",
      "This function took: 0.0 seconds to run\n",
      "This function took: 0.0 seconds to run\n",
      "This function took: 0.0 seconds to run\n",
      "This function took: 0.0 seconds to run\n",
      "This function took: 0.0 seconds to run\n",
      "This function took: 0.0009996891021728516 seconds to run\n",
      "This function took: 0.0009996891021728516 seconds to run\n",
      "This function took: 0.0009996891021728516 seconds to run\n",
      "This function took: 0.0009996891021728516 seconds to run\n",
      "This function took: 0.0009996891021728516 seconds to run\n",
      "This function took: 0.0009996891021728516 seconds to run\n",
      "This function took: 0.0009996891021728516 seconds to run\n",
      "This function took: 0.0009996891021728516 seconds to run\n",
      "This function took: 0.0009996891021728516 seconds to run\n",
      "This function took: 0.0009996891021728516 seconds to run\n",
      "This function took: 0.0009996891021728516 seconds to run\n",
      "This function took: 0.0009996891021728516 seconds to run\n"
     ]
    },
    {
     "data": {
      "text/plain": [
       "2432902008176640000"
      ]
     },
     "execution_count": 11,
     "metadata": {},
     "output_type": "execute_result"
    }
   ],
   "source": [
    "@speed_test\n",
    "def factorial_(num):\n",
    "    if num ==1:\n",
    "        return 1\n",
    "    else:\n",
    "        return num * factorial_(num-1)\n",
    "    \n",
    "factorial_(20)"
   ]
  },
  {
   "cell_type": "code",
   "execution_count": 12,
   "metadata": {},
   "outputs": [
    {
     "name": "stdout",
     "output_type": "stream",
     "text": [
      "This function took: 0.4072892665863037 seconds to run\n",
      "499999500000\n"
     ]
    }
   ],
   "source": [
    "@speed_test\n",
    "def sum_nums():\n",
    "    return sum(x for x in range(1000000))\n",
    "\n",
    "print(sum_nums())"
   ]
  },
  {
   "cell_type": "markdown",
   "metadata": {},
   "source": [
    "# Thinking Recursively in Python"
   ]
  },
  {
   "cell_type": "code",
   "execution_count": 15,
   "metadata": {},
   "outputs": [
    {
     "name": "stdout",
     "output_type": "stream",
     "text": [
      "Delivering mail to  Eric's house\n",
      "Delivering mail to  King's House\n",
      "Delivering mail to  Jame's House\n"
     ]
    }
   ],
   "source": [
    "#Problem \n",
    "#A mailman has to deliver presents to deliver presents to 10 houses. \n",
    "#Iterative present delivery \n",
    "\n",
    "\n",
    "def deliver_mail_iteratively():\n",
    "    for house in houses:\n",
    "        print(\"Delivering mail to \", house)\n",
    "\n",
    "houses = [\"Eric's house\", \"King's House\", \"Jame's House\"]\n",
    "deliver_mail_iteratively()"
   ]
  },
  {
   "cell_type": "code",
   "execution_count": 24,
   "metadata": {},
   "outputs": [
    {
     "name": "stdout",
     "output_type": "stream",
     "text": [
      "delivering mail to  Eric's house\n",
      "delivering mail to  King's House\n",
      "delivering mail to  Jame's House\n",
      "delivering mail to  Kyle's House\n",
      "delivering mail to  Kenny's House\n"
     ]
    }
   ],
   "source": [
    "#Another algorithm to help the mail man deliver recursively \n",
    "\n",
    "houses = [\"Eric's house\", \"King's House\", \"Jame's House\", \"Kyle's House\", \"Kenny's House\"]\n",
    "\n",
    "\n",
    "def deliver_mail_recursively(houses):\n",
    "    #Base case, 1 worker\n",
    "    \n",
    "    if len(houses) == 1:\n",
    "        house = houses[0]\n",
    "        print(\"delivering mail to \", house)\n",
    "        \n",
    "    else:\n",
    "        mid = len(houses) // 2\n",
    "        first_half = houses[:mid]\n",
    "        second_half = houses[mid:]\n",
    "        \n",
    "        #divide the work among 2 workers\n",
    "        deliver_mail_recursively(first_half)\n",
    "        deliver_mail_recursively(second_half)\n",
    "\n",
    "deliver_mail_recursively(houses)"
   ]
  },
  {
   "cell_type": "markdown",
   "metadata": {},
   "source": [
    "# Definition of a recursive function"
   ]
  },
  {
   "cell_type": "markdown",
   "metadata": {},
   "source": [
    "A recursive function is a functioned defined in terms of itself via self-referencing\n",
    "This means that the function will continue to call itself until a certain condition is met to return a result\n",
    "All recursive functions have two parts, base case and the recursive case"
   ]
  },
  {
   "cell_type": "code",
   "execution_count": 26,
   "metadata": {},
   "outputs": [
    {
     "data": {
      "text/plain": [
       "120"
      ]
     },
     "execution_count": 26,
     "metadata": {},
     "output_type": "execute_result"
    }
   ],
   "source": [
    "#Example \n",
    "# Calculate n!\n",
    "\n",
    "def factorial_recursive(n):\n",
    "    #Base case: n! = 1! = 1\n",
    "    \n",
    "    if n == 1:\n",
    "        return 1\n",
    "    \n",
    "    #Recursive case: n! = n * (n-1)!\n",
    "    \n",
    "    else:\n",
    "        return n * factorial_recursive(n-1)\n",
    "\n",
    "factorial_recursive(5)"
   ]
  },
  {
   "cell_type": "code",
   "execution_count": 27,
   "metadata": {},
   "outputs": [],
   "source": [
    "#Maintaining State During recursion\n",
    "#When dealing with recursion or recursive functions, keep in mind that each recursive call has its own execution context\n",
    "\n",
    "#option1 : We can thread the state through each recursive call so that the current state is part of the current call's execution\n",
    "#context\n",
    "\n",
    "#option2 : Keep the state in global scope\n"
   ]
  },
  {
   "cell_type": "code",
   "execution_count": 29,
   "metadata": {},
   "outputs": [
    {
     "data": {
      "text/plain": [
       "55"
      ]
     },
     "execution_count": 29,
     "metadata": {},
     "output_type": "execute_result"
    }
   ],
   "source": [
    "#Option2\n",
    "\n",
    "#Define Global scope\n",
    "\n",
    "current_number = 1\n",
    "accumulated_sum = 0\n",
    "\n",
    "def sum_recursive():\n",
    "    global current_number\n",
    "    global accumulated_sum\n",
    "    \n",
    "    #Base case\n",
    "    if current_number == 11:\n",
    "        return accumulated_sum\n",
    "    \n",
    "    else:\n",
    "        accumulated_sum = accumulated_sum + current_number\n",
    "        current_number = current_number + 1\n",
    "        return sum_recursive()\n",
    "\n",
    "sum_recursive()\n"
   ]
  },
  {
   "cell_type": "code",
   "execution_count": 30,
   "metadata": {},
   "outputs": [],
   "source": [
    "#Option 1\n",
    "\n",
    "def sum_recursive(current_number, accumulated_sum):\n",
    "    \n",
    "    #Base case, to return the final state\n",
    "    if current_number == 11:\n",
    "        return accumulated_sum\n",
    "    \n",
    "    #Recursive case\n",
    "    #Thread the state through the recursive call\n",
    "    \n",
    "    return sum_recursive(current_number + 1, accumulated_sum + current_number)"
   ]
  },
  {
   "cell_type": "code",
   "execution_count": 33,
   "metadata": {},
   "outputs": [
    {
     "data": {
      "text/plain": [
       "55"
      ]
     },
     "execution_count": 33,
     "metadata": {},
     "output_type": "execute_result"
    }
   ],
   "source": [
    "#Pass the initial state\n",
    "\n",
    "sum_recursive(1,0)"
   ]
  },
  {
   "cell_type": "markdown",
   "metadata": {},
   "source": [
    "# Recursive Data Sctructures "
   ]
  },
  {
   "cell_type": "code",
   "execution_count": 36,
   "metadata": {},
   "outputs": [
    {
     "name": "stdout",
     "output_type": "stream",
     "text": [
      "55\n"
     ]
    }
   ],
   "source": [
    "#A data structure is recursive if it can be defined in terms of a smaller version of itself\n",
    "#for example a list \n",
    "\n",
    "def list_sum_recursively(input_list):\n",
    "    #Base case\n",
    "    if input_list == []:\n",
    "        return 0\n",
    "    \n",
    "    #Recursive case \n",
    "    #Reduce the original problem into simpler instances of the same problem\n",
    "    #by making use of the fact that the list is a recursive data structure and can \n",
    "    #be defined in terms of a smaller version of itself\n",
    "    \n",
    "    else:\n",
    "        head = input_list[0]\n",
    "        smaller_list = input_list[1:]\n",
    "        \n",
    "        return head + list_sum_recursively(smaller_list)\n",
    "\n",
    "print(list_sum_recursively([1,2,3,4,5,6,7,8,9,10]))"
   ]
  },
  {
   "cell_type": "code",
   "execution_count": null,
   "metadata": {},
   "outputs": [],
   "source": [
    "#Fibonacci Sequence\n",
    "\n",
    "#Example: Write a function to compute the nth Fibonacci number:\n",
    "\n",
    "# Fn = Fn-1 + Fn-2\n",
    "#Base cases: F0 = 0 and F"
   ]
  },
  {
   "cell_type": "code",
   "execution_count": 39,
   "metadata": {},
   "outputs": [
    {
     "name": "stdout",
     "output_type": "stream",
     "text": [
      "Calculating F(5),Calculating F(4),Calculating F(3),Calculating F(2),Calculating F(1),Calculating F(0),Calculating F(1),Calculating F(2),Calculating F(1),Calculating F(0),Calculating F(3),Calculating F(2),Calculating F(1),Calculating F(0),Calculating F(1),5\n"
     ]
    }
   ],
   "source": [
    "#Fibonacci Sequence\n",
    "\n",
    "#Example: Write a function to compute the nth Fibonacci number:\n",
    "\n",
    "# Fn = Fn-1 + Fn-2\n",
    "#Base cases: F0 = 0 and F1 = 1\n",
    "\n",
    "def fibonacci_recursive(n):\n",
    "    print(\"Calculating F\",\"(\", n,\")\", sep=\"\", end =\",\")\n",
    "    \n",
    "    #Base case\n",
    "    if n == 0:\n",
    "        return 0\n",
    "    \n",
    "    elif n == 1:\n",
    "        return 1\n",
    "    \n",
    "    #Recursive case\n",
    "    else:\n",
    "        return fibonacci_recursive(n-1) + fibonacci_recursive(n-2)\n",
    "    \n",
    "print(fibonacci_recursive(5))"
   ]
  },
  {
   "cell_type": "code",
   "execution_count": 40,
   "metadata": {},
   "outputs": [],
   "source": [
    "from functools import lru_cache\n",
    "\n",
    "#lru_cache is a decorator that caches the result. Thus we avoid recomputation by explicitly checking for the value before\n",
    "#trying to recompute it."
   ]
  },
  {
   "cell_type": "code",
   "execution_count": 42,
   "metadata": {},
   "outputs": [
    {
     "name": "stdout",
     "output_type": "stream",
     "text": [
      "Calculating F(5),Calculating F(4),Calculating F(3),Calculating F(2),Calculating F(1),Calculating F(0),5\n"
     ]
    }
   ],
   "source": [
    "@lru_cache(maxsize=None)\n",
    "\n",
    "def fibonacci_recursive(n):\n",
    "    print(\"Calculating F\",\"(\", n,\")\", sep=\"\", end =\",\")\n",
    "    \n",
    "    #Base case\n",
    "    if n == 0:\n",
    "        return 0\n",
    "    \n",
    "    elif n == 1:\n",
    "        return 1\n",
    "    \n",
    "    #Recursive case\n",
    "    else:\n",
    "        return fibonacci_recursive(n-1) + fibonacci_recursive(n-2)\n",
    "    \n",
    "print(fibonacci_recursive(5))"
   ]
  },
  {
   "cell_type": "markdown",
   "metadata": {},
   "source": [
    "# Recursion limit"
   ]
  },
  {
   "cell_type": "code",
   "execution_count": 43,
   "metadata": {},
   "outputs": [
    {
     "data": {
      "text/plain": [
       "3000"
      ]
     },
     "execution_count": 43,
     "metadata": {},
     "output_type": "execute_result"
    }
   ],
   "source": [
    "import sys\n",
    "\n",
    "sys.getrecursionlimit()"
   ]
  },
  {
   "cell_type": "code",
   "execution_count": 46,
   "metadata": {},
   "outputs": [
    {
     "name": "stdout",
     "output_type": "stream",
     "text": [
      "['RLock', 'WRAPPER_ASSIGNMENTS', 'WRAPPER_UPDATES', '_CacheInfo', '_HashedSeq', '__all__', '__builtins__', '__cached__', '__doc__', '__file__', '__loader__', '__name__', '__package__', '__spec__', '_c3_merge', '_c3_mro', '_compose_mro', '_convert', '_find_impl', '_ge_from_gt', '_ge_from_le', '_ge_from_lt', '_gt_from_ge', '_gt_from_le', '_gt_from_lt', '_le_from_ge', '_le_from_gt', '_le_from_lt', '_lru_cache_wrapper', '_lt_from_ge', '_lt_from_gt', '_lt_from_le', '_make_key', 'cmp_to_key', 'get_cache_token', 'lru_cache', 'namedtuple', 'partial', 'partialmethod', 'recursive_repr', 'reduce', 'singledispatch', 'total_ordering', 'update_wrapper', 'wraps']\n"
     ]
    }
   ],
   "source": [
    "import functools\n",
    "\n",
    "print(dir(functools))"
   ]
  },
  {
   "cell_type": "code",
   "execution_count": null,
   "metadata": {},
   "outputs": [],
   "source": []
  }
 ],
 "metadata": {
  "kernelspec": {
   "display_name": "Python 3",
   "language": "python",
   "name": "python3"
  },
  "language_info": {
   "codemirror_mode": {
    "name": "ipython",
    "version": 3
   },
   "file_extension": ".py",
   "mimetype": "text/x-python",
   "name": "python",
   "nbconvert_exporter": "python",
   "pygments_lexer": "ipython3",
   "version": "3.7.1"
  }
 },
 "nbformat": 4,
 "nbformat_minor": 2
}
