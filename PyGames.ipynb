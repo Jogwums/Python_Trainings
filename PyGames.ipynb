{
 "cells": [
  {
   "cell_type": "markdown",
   "metadata": {},
   "source": [
    "# Design a game \n",
    "#  Hangman\n",
    "#Objective: correctly spell the hangman's word given a limited number of chances\n",
    "\n"
   ]
  },
  {
   "cell_type": "code",
   "execution_count": 1,
   "metadata": {},
   "outputs": [],
   "source": [
    "#import relevant modules\n",
    "import time\n",
    "import random\n"
   ]
  },
  {
   "cell_type": "code",
   "execution_count": 5,
   "metadata": {},
   "outputs": [
    {
     "name": "stdout",
     "output_type": "stream",
     "text": [
      "What is your name? Joe\n",
      "Hello, Joe time to play HangMan\n",
      "------------------------------------------------------------\n",
      "Start guessing...\n",
      "__________*\n",
      "guess a character:c\n",
      "__c_c_____*\n",
      "guess a character:a\n",
      "Wrong letter\n",
      "You have 9 more guesses\n",
      "__c_c_____*\n",
      "guess a character:u\n",
      "Wrong letter\n",
      "You have 8 more guesses\n",
      "__c_c_____*\n",
      "guess a character:i\n",
      "_ic_c_____*\n",
      "guess a character:r\n",
      "ric_c_____*\n",
      "guess a character:o\n",
      "ricoc_____*\n",
      "guess a character:h\n",
      "ricoch____*\n",
      "guess a character:e\n",
      "ricoche__e*\n",
      "guess a character:t\n",
      "ricochette\n",
      "You Won!\n"
     ]
    }
   ],
   "source": [
    "#welcome the player\n",
    "name = input(\"What is your name? \")\n",
    "print(\"Hello, \"+name,\"time to play HangMan\")\n",
    "print(\"--\"*30)\n",
    "\n",
    "#wait for 1 second\n",
    "time.sleep(0.5)\n",
    "\n",
    "print(\"Start guessing...\")\n",
    "time.sleep(0.5)\n",
    "\n",
    "#Create a list from which to randomly pick a word \n",
    "lista = (\"ricochette\",\"unicorn\",\"hangman\",\"virus\",\"aeroplane\",\"cake\",\"python\")\n",
    "\n",
    "word = random.choice(lista)\n",
    "\n",
    "#create a variable to hold a guess, default it is empty\n",
    "\n",
    "guesses = ''\n",
    "\n",
    "#determine the number of turns\n",
    "\n",
    "turns = 10\n",
    "\n",
    "#create a while loop\n",
    "#check if the turns are more than zero\n",
    "\n",
    "while turns > 0:\n",
    "    #make a counter that starts with zero\n",
    "    \n",
    "    failed = 0\n",
    "    \n",
    "    #create a for loop, for every character in secret_word\n",
    "    for char in word:\n",
    "        \n",
    "        #see if the character is in the players guess\n",
    "        if char in guesses:\n",
    "            \n",
    "            #then print it out and include the 2nd arg end=\"\" to keep print statement in the same line\n",
    "            print(char, end=\"\")\n",
    "            \n",
    "        else:\n",
    "            #if char not in print a dash\n",
    "            print('_', end=\"\")\n",
    "            \n",
    "            #and increase the failed counter with one\n",
    "            failed += 1\n",
    "            \n",
    "            #if failed is equal to zero\n",
    "    \n",
    "    #print you won\n",
    "    if failed == 0:\n",
    "        print(\"\\nYou Won!\")\n",
    "        \n",
    "        #exit the script\n",
    "        break\n",
    "        \n",
    "    print('*')\n",
    "    \n",
    "    #ask the user to guess a character\n",
    "    guess = input(\"guess a character:\")\n",
    "    \n",
    "    #set the players guess to guesses\n",
    "    guesses += guess\n",
    "    \n",
    "    #if the guess is not found in the secret word\n",
    "    if guess not in word:\n",
    "        \n",
    "        #turns counter decreses with 1 (becomes 9)\n",
    "        turns -= 1\n",
    "        #print wrong\n",
    "        print(\"Wrong letter\")\n",
    "        \n",
    "        #print how many turns are left\n",
    "        \n",
    "        print(\"You have\", +turns, \"more guesses\")\n",
    "        \n",
    "        #if the turns are equal to zero \n",
    "        if turns == 0:\n",
    "            #print \"you lose\"\n",
    "            print(\"\\nYou Lost\")\n",
    "            print(\"The word is \"+word)"
   ]
  },
  {
   "cell_type": "markdown",
   "metadata": {},
   "source": [
    "# Design a Text Guessing game"
   ]
  },
  {
   "cell_type": "code",
   "execution_count": 7,
   "metadata": {},
   "outputs": [],
   "source": [
    "import string\n",
    "import time\n",
    "import random"
   ]
  },
  {
   "cell_type": "code",
   "execution_count": null,
   "metadata": {},
   "outputs": [],
   "source": []
  },
  {
   "cell_type": "code",
   "execution_count": null,
   "metadata": {},
   "outputs": [],
   "source": []
  },
  {
   "cell_type": "markdown",
   "metadata": {},
   "source": [
    "# Design a Calculator"
   ]
  },
  {
   "cell_type": "code",
   "execution_count": 1,
   "metadata": {},
   "outputs": [],
   "source": [
    "import re\n",
    "import os"
   ]
  },
  {
   "cell_type": "code",
   "execution_count": 4,
   "metadata": {},
   "outputs": [
    {
     "name": "stdout",
     "output_type": "stream",
     "text": [
      "Our Magical Calculator\n",
      "Type 'exit' to exit\n",
      "\n",
      "Enter equation:9*5\n",
      "45+6\n",
      "51exit\n",
      "Goodbye, human.\n"
     ]
    },
    {
     "ename": "SyntaxError",
     "evalue": "unexpected EOF while parsing (<string>, line 1)",
     "output_type": "error",
     "traceback": [
      "Traceback \u001b[1;36m(most recent call last)\u001b[0m:\n",
      "  File \u001b[0;32m\"C:\\Users\\hp\\Anaconda3\\lib\\site-packages\\IPython\\core\\interactiveshell.py\"\u001b[0m, line \u001b[0;32m3267\u001b[0m, in \u001b[0;35mrun_code\u001b[0m\n    exec(code_obj, self.user_global_ns, self.user_ns)\n",
      "  File \u001b[0;32m\"<ipython-input-4-171f705ad053>\"\u001b[0m, line \u001b[0;32m29\u001b[0m, in \u001b[0;35m<module>\u001b[0m\n    performMath()\n",
      "\u001b[1;36m  File \u001b[1;32m\"<ipython-input-4-171f705ad053>\"\u001b[1;36m, line \u001b[1;32m26\u001b[1;36m, in \u001b[1;35mperformMath\u001b[1;36m\u001b[0m\n\u001b[1;33m    previous = eval(str(previous) + equation)\u001b[0m\n",
      "\u001b[1;36m  File \u001b[1;32m\"<string>\"\u001b[1;36m, line \u001b[1;32m1\u001b[0m\n\u001b[1;33m    51exit\u001b[0m\n\u001b[1;37m         ^\u001b[0m\n\u001b[1;31mSyntaxError\u001b[0m\u001b[1;31m:\u001b[0m unexpected EOF while parsing\n"
     ]
    }
   ],
   "source": [
    "print(\"Our Magical Calculator\")\n",
    "\n",
    "print(\"Type 'exit' to exit\\n\")\n",
    "\n",
    "previous = 0\n",
    "run = True\n",
    "\n",
    "def performMath():\n",
    "    global run\n",
    "    global previous\n",
    "    equation =\"\"\n",
    "    if previous == 0:\n",
    "        equation = input(\"Enter equation:\")\n",
    "    else:\n",
    "        equation= input(str(previous))\n",
    "            \n",
    "    if equation == 'exit\\n':\n",
    "        print(\"Goodbye, human.\")\n",
    "        run = False\n",
    "    else:\n",
    "        equation= re.sub('[a-zA-Z,.:()\" \"]','', equation)\n",
    "        \n",
    "    if previous == 0:\n",
    "        previous = eval(equation)\n",
    "    else:\n",
    "        previous = eval(str(previous) + equation)\n",
    "        \n",
    "while run:\n",
    "    performMath()"
   ]
  },
  {
   "cell_type": "code",
   "execution_count": null,
   "metadata": {},
   "outputs": [],
   "source": []
  }
 ],
 "metadata": {
  "kernelspec": {
   "display_name": "Python 3",
   "language": "python",
   "name": "python3"
  },
  "language_info": {
   "codemirror_mode": {
    "name": "ipython",
    "version": 3
   },
   "file_extension": ".py",
   "mimetype": "text/x-python",
   "name": "python",
   "nbconvert_exporter": "python",
   "pygments_lexer": "ipython3",
   "version": "3.7.1"
  }
 },
 "nbformat": 4,
 "nbformat_minor": 2
}
