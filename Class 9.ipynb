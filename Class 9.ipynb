{
 "cells": [
  {
   "cell_type": "markdown",
   "metadata": {},
   "source": [
    "# CREATING INTERACTIVE PYTHON SCRIPTS\n",
    "\n",
    "#HANGMAN"
   ]
  },
  {
   "cell_type": "code",
   "execution_count": 1,
   "metadata": {},
   "outputs": [],
   "source": [
    "#Hangman is a short game of guesses where the players guess the letters of a word given a certain number of trials and \n",
    "#are declared winner if the word is correctly guessed within the available number of trials."
   ]
  },
  {
   "cell_type": "code",
   "execution_count": 2,
   "metadata": {},
   "outputs": [],
   "source": [
    "#import required modules \"time  and random\"\n",
    "\n",
    "import time, random"
   ]
  },
  {
   "cell_type": "code",
   "execution_count": null,
   "metadata": {},
   "outputs": [],
   "source": [
    "#Welcome the user \n",
    "\n",
    "name = input(\"What is your name?\")\n",
    "\n",
    "print(\"Hello \" +name+\", Time to play Hangman\")\n",
    "\n",
    "print(\"\")\n",
    "\n",
    "time.sleep(0.5)\n",
    "\n",
    "print(\"Start guessing...\")\n",
    "\n",
    "# list from which to randomly pick a word\n",
    "\n",
    "lista = (\"aeroplane\", \"aircraft\", \"timeframe\",\"beautiful\", \"unitedstates\",\"javascript\", \"python\")\n",
    "\n",
    "word = random.choice(lista)\n",
    "\n",
    "#create a variable with an empty value \n",
    "\n",
    "guesses= ''\n",
    "\n",
    "#determine the number of turns\n",
    "\n",
    "turns = 10\n",
    "\n",
    "#Create a while loop, first check if turns is more than zero\n",
    "\n",
    "while turns > 0:\n",
    "    \n",
    "    #make a counter that starts with zero\n",
    "    failed = 0\n",
    "    \n",
    "    #write a for loop for every secret word\n",
    "    for char in word:\n",
    "        \n",
    "        #check if the character is in the players guess\n",
    "        if char in guesses:\n",
    "            \n",
    "            #then print out the character\n",
    "            print(char, end=\"\")\n",
    "        \n",
    "        else:\n",
    "            #if not found, print a dash\n",
    "            print(\"_\", end=\"\")\n",
    "            \n",
    "            # and increase the failed counter by 1\n",
    "            failed += 1\n",
    "            \n",
    "            #if failed is equal to zero\n",
    "    \n",
    "    #print you won!\n",
    "    if failed == 0:\n",
    "        print(\"\\nYou Won!\")\n",
    "        \n",
    "        #exit the script\n",
    "        break\n",
    "        \n",
    "    print()\n",
    "    \n",
    "    #ask the user to guess a character\n",
    "    guess = input(\"guess a character:\")\n",
    "    \n",
    "    #set the players guess to guesses\n",
    "    guesses += guess\n",
    "    \n",
    "    #if the guess is not found in the secret word\n",
    "    if guess not in word:\n",
    "        \n",
    "        #turns counter decreases by 1 (now 9)\n",
    "        turns -= 1\n",
    "        \n",
    "        #print 'that was wrong'\n",
    "        print(\"Wrong!\")\n",
    "                \n",
    "        #tell the player how many turns are left\n",
    "        print(name+\" you have\", + turns, \"more guess(es)\")\n",
    "                \n",
    "        #if the turns are equal to zero, print you lose\n",
    "        if turns == 0:\n",
    "            #print(name+\" you have\", + turns, \"more guess\")\n",
    "            print(\"You LOST! \" + name)\n",
    "            print(\"The word is \" + word)\n",
    "            \n"
   ]
  },
  {
   "cell_type": "markdown",
   "metadata": {},
   "source": [
    "# Python RegEx"
   ]
  },
  {
   "cell_type": "code",
   "execution_count": 1,
   "metadata": {},
   "outputs": [],
   "source": [
    "#A RegEx, or Regular Expression, is a sequence of characters that forms a search pattern \n",
    "\n",
    "# RegEx can be used to check if a string contains the specified search pattern "
   ]
  },
  {
   "cell_type": "code",
   "execution_count": 2,
   "metadata": {},
   "outputs": [],
   "source": [
    "#The RegEx Module, re\n",
    "\n",
    "import re "
   ]
  },
  {
   "cell_type": "code",
   "execution_count": 3,
   "metadata": {},
   "outputs": [
    {
     "name": "stdout",
     "output_type": "stream",
     "text": [
      "<re.Match object; span=(0, 3), match='The'>\n"
     ]
    }
   ],
   "source": [
    "txt = \"The new hangman game works!\"\n",
    "\n",
    "x = re.search(\"^The\", txt)\n",
    "\n",
    "print(x)"
   ]
  },
  {
   "cell_type": "code",
   "execution_count": 4,
   "metadata": {},
   "outputs": [],
   "source": [
    "#RegEx Functions\n",
    "\n",
    "#search : Returns a Match object if there is a match anywhere in the string \n",
    "\n",
    "#findall: Returns a list containing all matches\n",
    "\n",
    "#split: Returns a list where the string has been split at each match\n",
    "\n",
    "#sub: Replaces one or many matches with a string"
   ]
  },
  {
   "cell_type": "markdown",
   "metadata": {},
   "source": [
    "# Metacharacters"
   ]
  },
  {
   "cell_type": "code",
   "execution_count": 5,
   "metadata": {},
   "outputs": [],
   "source": [
    "#Metacharacter are characters that have a special meaning:\n",
    "\n",
    "# [] means a set of characters e.g \"[a-m]\" \n",
    "\n",
    "# \\ means a special sequence e.g \"\\d\" this returns a match where the string contains digits from (0-9)\n",
    "\n",
    "# ^ means starts with e.g \"^the\" \n",
    "\n",
    "# $ means ends with e.g \"$works!\" \n",
    "\n",
    "# * means zero or more occurences e.g \"wor*\"\n",
    "\n",
    "# + means one or more occurrence e.g \"the+\"\n",
    "\n",
    "# {} means exactly the specified number of occurences e.g \"or{2}\" \n",
    "\n",
    "# | means Either or e.g \"falls|stays\"\n"
   ]
  },
  {
   "cell_type": "markdown",
   "metadata": {},
   "source": [
    "# Special Sequences"
   ]
  },
  {
   "cell_type": "code",
   "execution_count": 7,
   "metadata": {},
   "outputs": [],
   "source": [
    "# these are signified using \\\n",
    "\n",
    "#examples are \"\\d\" , \"\\D\" , \"\\A\" , \"\\w\" , \"\\W\" , \"\\s\" , \"\\S\"\n",
    "\n",
    "# \"\\d\" this returns a match where the string contains digits from (0-9)\n",
    "\n",
    "# \"\\D\" this returns a match where the string DOES NOT contains digits from (0-9)\n",
    "\n",
    "# \"\\A\" returns a match if the specified characters are at the beginning of the string\n",
    "\n",
    "# \"\\w\" returns a match where the string contains any word characters(FROM A-z, DIGITS 0-9, and underscore _ char)\n",
    "\n",
    "# \"\\W\" opposite of \"\\w\"\n",
    "\n",
    "# \"\\s\" Checks for a white space character in a string and returns a match\n",
    "\n",
    "# \"\\S\" opposite of \"\\S\""
   ]
  },
  {
   "cell_type": "markdown",
   "metadata": {},
   "source": [
    "# Sets"
   ]
  },
  {
   "cell_type": "code",
   "execution_count": 9,
   "metadata": {},
   "outputs": [],
   "source": [
    "#A set is a set of characters inside a pair of square brackets with a special meaning \n",
    "\n",
    "# Example: [arn]  Description: this returns a match where one of the specified characters(a,r or n) are present\n",
    "\n",
    "# Example: [a-n] Description: returns a match for any lowercase character, alphabetically between a and n\n",
    "\n",
    "# Example: [^arn] Description: returns a match for any character EXCEPT a,r,n\n",
    "\n",
    "# Example: [0123] Description: Returns a match where any of the specified digits are present\n",
    "\n",
    "# Example: [0-9] Description: Returns a match for any digit between 0 and 9\n",
    "\n",
    "# Example: [a-zA-Z] Description: Returns a match for any character alphabetically between a and z, both lower and upper cases \n",
    "\n",
    "# Example: [0-5][0-9] Description: Returns a match for any two digit no from 00 to 59\n",
    "\n"
   ]
  },
  {
   "cell_type": "markdown",
   "metadata": {},
   "source": [
    "# findall() function"
   ]
  },
  {
   "cell_type": "code",
   "execution_count": 13,
   "metadata": {},
   "outputs": [],
   "source": [
    "# It returns a list containg all matches\n",
    "\n",
    "\n",
    "#Example: Print a list of all matches "
   ]
  },
  {
   "cell_type": "code",
   "execution_count": 15,
   "metadata": {},
   "outputs": [
    {
     "name": "stdout",
     "output_type": "stream",
     "text": [
      "['ia']\n"
     ]
    }
   ],
   "source": [
    "import re\n",
    "\n",
    "txt = \"The rain in Nigeria is poor\"\n",
    "\n",
    "x = re.findall(\"ia\", txt)\n",
    "\n",
    "print(x)"
   ]
  },
  {
   "cell_type": "code",
   "execution_count": 17,
   "metadata": {},
   "outputs": [
    {
     "name": "stdout",
     "output_type": "stream",
     "text": [
      "[]\n"
     ]
    }
   ],
   "source": [
    "x = re.findall(\"Spain\", txt)\n",
    "\n",
    "print(x) # if there are no matches it will print an empty string"
   ]
  },
  {
   "cell_type": "markdown",
   "metadata": {},
   "source": [
    "# search() Function"
   ]
  },
  {
   "cell_type": "code",
   "execution_count": 18,
   "metadata": {},
   "outputs": [],
   "source": [
    "#the search() function searches the string for a match and returns Match object if there is a match.\n",
    "\n",
    "#if there is more than one match, only the first occurrence of the match will be returned:"
   ]
  },
  {
   "cell_type": "code",
   "execution_count": 19,
   "metadata": {},
   "outputs": [
    {
     "name": "stdout",
     "output_type": "stream",
     "text": [
      "The first white-space character is located in position: 3\n"
     ]
    }
   ],
   "source": [
    "#Example\n",
    "\n",
    "import re\n",
    "\n",
    "txt = \"The rain in Spain\"\n",
    "\n",
    "x = re.search(\"\\s\", txt)\n",
    "\n",
    "print(\"The first white-space character is located in position:\", x.start())"
   ]
  },
  {
   "cell_type": "code",
   "execution_count": 20,
   "metadata": {},
   "outputs": [
    {
     "name": "stdout",
     "output_type": "stream",
     "text": [
      "None\n"
     ]
    }
   ],
   "source": [
    "#if no matches are found, the value None is returned\n",
    "\n",
    "x = re.search(\"Portugal\", txt)\n",
    "\n",
    "print(x)"
   ]
  },
  {
   "cell_type": "code",
   "execution_count": 21,
   "metadata": {},
   "outputs": [
    {
     "name": "stdout",
     "output_type": "stream",
     "text": [
      "<re.Match object; span=(0, 1), match='T'>\n"
     ]
    }
   ],
   "source": [
    "x = re.search(\"\\w\", txt)\n",
    "\n",
    "print(x)"
   ]
  },
  {
   "cell_type": "code",
   "execution_count": 22,
   "metadata": {},
   "outputs": [
    {
     "name": "stdout",
     "output_type": "stream",
     "text": [
      "<re.Match object; span=(3, 4), match=' '>\n"
     ]
    }
   ],
   "source": [
    "x = re.search(\"\\W\", txt)\n",
    "\n",
    "print(x)"
   ]
  },
  {
   "cell_type": "code",
   "execution_count": 23,
   "metadata": {},
   "outputs": [
    {
     "name": "stdout",
     "output_type": "stream",
     "text": [
      "None\n"
     ]
    }
   ],
   "source": [
    "x = re.search(\"\\d\", txt)\n",
    "\n",
    "print(x)"
   ]
  },
  {
   "cell_type": "markdown",
   "metadata": {},
   "source": [
    "# split() Function"
   ]
  },
  {
   "cell_type": "code",
   "execution_count": 24,
   "metadata": {},
   "outputs": [],
   "source": [
    "#The split function which returns a list where the string has been split at each match"
   ]
  },
  {
   "cell_type": "code",
   "execution_count": 25,
   "metadata": {},
   "outputs": [
    {
     "name": "stdout",
     "output_type": "stream",
     "text": [
      "['The', 'rain', 'in', 'spain']\n"
     ]
    }
   ],
   "source": [
    "#Example\n",
    "\n",
    "import re\n",
    "\n",
    "txt = \"The rain in spain\"\n",
    "\n",
    "x = re.split(\"\\s\", txt)\n",
    "\n",
    "print(x)"
   ]
  },
  {
   "cell_type": "code",
   "execution_count": 27,
   "metadata": {},
   "outputs": [
    {
     "name": "stdout",
     "output_type": "stream",
     "text": [
      "['The', 'rain in spain']\n"
     ]
    }
   ],
   "source": [
    "#We can control the number of occurences by specifying the max-split character\n",
    "\n",
    "\n",
    "x = re.split(\"\\s\", txt, 1)\n",
    "\n",
    "print(x)"
   ]
  },
  {
   "cell_type": "markdown",
   "metadata": {},
   "source": [
    "# sub() function"
   ]
  },
  {
   "cell_type": "code",
   "execution_count": 28,
   "metadata": {},
   "outputs": [],
   "source": [
    "#The sub() function replaces the matches with the text of your choice\n"
   ]
  },
  {
   "cell_type": "code",
   "execution_count": 29,
   "metadata": {},
   "outputs": [
    {
     "name": "stdout",
     "output_type": "stream",
     "text": [
      "Nigeria$is$suffering$from$coronavirus\n"
     ]
    }
   ],
   "source": [
    "#Example\n",
    "\n",
    "import re\n",
    "\n",
    "txt = \"Nigeria is suffering from coronavirus\"\n",
    "\n",
    "x = re.sub(\"\\s\", \"$\", txt)\n",
    "\n",
    "print(x)"
   ]
  },
  {
   "cell_type": "code",
   "execution_count": 30,
   "metadata": {},
   "outputs": [
    {
     "name": "stdout",
     "output_type": "stream",
     "text": [
      "Nigeria--is--suffering from coronavirus\n"
     ]
    }
   ],
   "source": [
    "#to specify the number of replacements, use the count parameter\n",
    "\n",
    "x = re.sub(\"\\s\",\"--\", txt, 2)\n",
    "\n",
    "print(x)"
   ]
  },
  {
   "cell_type": "markdown",
   "metadata": {},
   "source": [
    "# Match Object"
   ]
  },
  {
   "cell_type": "code",
   "execution_count": 31,
   "metadata": {},
   "outputs": [],
   "source": [
    "#A match object is an object containing information about the search and the result\n",
    "\n",
    "#Note : If there is no match, the value None will be returned, instead of the Match Object\n"
   ]
  },
  {
   "cell_type": "code",
   "execution_count": 32,
   "metadata": {},
   "outputs": [
    {
     "name": "stdout",
     "output_type": "stream",
     "text": [
      "<re.Match object; span=(5, 7), match='ai'>\n"
     ]
    }
   ],
   "source": [
    "#Example\n",
    "\n",
    "import re\n",
    "\n",
    "txt = \"The rain in Spain\"\n",
    "\n",
    "x = re.search(\"ai\", txt)\n",
    "\n",
    "print(x) #this will print an object"
   ]
  },
  {
   "cell_type": "code",
   "execution_count": 37,
   "metadata": {},
   "outputs": [
    {
     "name": "stdout",
     "output_type": "stream",
     "text": [
      "The rain in Spain\n",
      "<re.Match object; span=(12, 17), match='Spain'>\n",
      "(12, 17)\n",
      "The rain in Spain\n",
      "Spain\n"
     ]
    }
   ],
   "source": [
    "#Example \n",
    "\n",
    "#Print the position of the first match occurrence (start and end position)\n",
    "\n",
    "#The RE looks for any words that starts with an Upper case \"S\":\n",
    "\n",
    "print(txt)\n",
    "\n",
    "x = re.search(r\"\\bS\\w+\", txt)\n",
    "\n",
    "# \"\\b\" returns a match where the specified characters'r\"\\bS'\n",
    "\n",
    "print(x)\n",
    "\n",
    "#.span() method which returns a tuple containing the start and end positions of the match\n",
    "\n",
    "print(x.span())\n",
    "\n",
    "#.string returns the string passed into the function\n",
    "\n",
    "print(x.string)\n",
    "\n",
    "#.group () returns the part of the string where there was a match \n",
    "\n",
    "print(x.group())\n",
    "\n",
    "#If there is no match, the value None will be returned instead of match object"
   ]
  },
  {
   "cell_type": "code",
   "execution_count": null,
   "metadata": {},
   "outputs": [],
   "source": []
  }
 ],
 "metadata": {
  "kernelspec": {
   "display_name": "Python 3",
   "language": "python",
   "name": "python3"
  },
  "language_info": {
   "codemirror_mode": {
    "name": "ipython",
    "version": 3
   },
   "file_extension": ".py",
   "mimetype": "text/x-python",
   "name": "python",
   "nbconvert_exporter": "python",
   "pygments_lexer": "ipython3",
   "version": "3.7.1"
  }
 },
 "nbformat": 4,
 "nbformat_minor": 2
}
