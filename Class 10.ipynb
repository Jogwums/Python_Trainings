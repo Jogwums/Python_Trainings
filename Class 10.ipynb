{
 "cells": [
  {
   "cell_type": "markdown",
   "metadata": {},
   "source": [
    "# LIST COMPREHENSION IN PYTHON \n"
   ]
  },
  {
   "cell_type": "code",
   "execution_count": 2,
   "metadata": {},
   "outputs": [],
   "source": [
    "#List comprehensions are a tool for transforming one list into another list.\n",
    "#During this transformation, elements can be conditionally included in the \n",
    "#new list and each element can be transformed as needed."
   ]
  },
  {
   "cell_type": "code",
   "execution_count": 3,
   "metadata": {},
   "outputs": [],
   "source": [
    "#convert from a for loop to a list comprehension and vice versa"
   ]
  },
  {
   "cell_type": "code",
   "execution_count": 4,
   "metadata": {},
   "outputs": [
    {
     "data": {
      "text/plain": [
       "\" new_things = []\\n    for item in old_things:\\n        if condition_based_on(item):\\n            new_things.append('something with' + item)\\n\""
      ]
     },
     "execution_count": 4,
     "metadata": {},
     "output_type": "execute_result"
    }
   ],
   "source": [
    "# If you have a for loop that looks like this:\n",
    "\n",
    "''' new_things = []\n",
    "    for item in old_things:\n",
    "        if condition_based_on(item):\n",
    "            new_things.append('something with' + item)\n",
    "'''\n",
    "\n",
    "# You can change/simplify it to a list comprehension like this:\n",
    "\n",
    "# new_things = ['something with' + item in old_things if condition_based_on(item)]"
   ]
  },
  {
   "cell_type": "code",
   "execution_count": 5,
   "metadata": {},
   "outputs": [
    {
     "name": "stdout",
     "output_type": "stream",
     "text": [
      "[2, 6, 10]\n"
     ]
    }
   ],
   "source": [
    "num = [1,2,3,4,5]\n",
    "\n",
    "doubled_odds = []\n",
    "\n",
    "for n in num:\n",
    "    if n%2 ==1:\n",
    "        doubled_odds.append(n*2)\n",
    "print(doubled_odds)"
   ]
  },
  {
   "cell_type": "code",
   "execution_count": 6,
   "metadata": {},
   "outputs": [
    {
     "name": "stdout",
     "output_type": "stream",
     "text": [
      "[2, 6, 10]\n"
     ]
    }
   ],
   "source": [
    "doubled_odds = [n*2 for n in num if n%2 == 1]\n",
    "\n",
    "print(doubled_odds)"
   ]
  },
  {
   "cell_type": "markdown",
   "metadata": {},
   "source": [
    "# Unconditional Comprehensions"
   ]
  },
  {
   "cell_type": "code",
   "execution_count": 8,
   "metadata": {},
   "outputs": [
    {
     "name": "stdout",
     "output_type": "stream",
     "text": [
      "[2, 4, 6, 8, 10]\n"
     ]
    }
   ],
   "source": [
    "num = [1,2,3,4,5]\n",
    "\n",
    "doubled_nums = []\n",
    "for n in num:\n",
    "    doubled_nums.append(n*2)\n",
    "\n",
    "print(doubled_nums)"
   ]
  },
  {
   "cell_type": "code",
   "execution_count": 10,
   "metadata": {},
   "outputs": [
    {
     "name": "stdout",
     "output_type": "stream",
     "text": [
      "[2, 4, 6, 8, 10]\n"
     ]
    }
   ],
   "source": [
    "double_nums = [n*2 for n in num]\n",
    "print(double_nums)"
   ]
  },
  {
   "cell_type": "code",
   "execution_count": 11,
   "metadata": {},
   "outputs": [],
   "source": [
    "#Nested Loops\n",
    "\n",
    "#flattened = []\n",
    "#for row in matrix:\n",
    "#    for n in row:\n",
    "#        flattened.append(n)\n",
    "        \n",
    "#List comprehension for the nested loop\n",
    "\n",
    "#flattened = [n for row in matrix for n in row]\n"
   ]
  },
  {
   "cell_type": "markdown",
   "metadata": {},
   "source": [
    "# Example\n",
    "#stand in line\n",
    "#Write a function to insert a number into a list\n",
    "#and at the same time pop off the first number in the list"
   ]
  },
  {
   "cell_type": "code",
   "execution_count": 13,
   "metadata": {},
   "outputs": [],
   "source": [
    "def list(lst, num):\n",
    "    if lst == []:\n",
    "        return \"No list has been selected\"\n",
    "    else:\n",
    "        del lst[0]\n",
    "        lst.append(num)\n",
    "        return lst"
   ]
  },
  {
   "cell_type": "code",
   "execution_count": 14,
   "metadata": {},
   "outputs": [
    {
     "name": "stdout",
     "output_type": "stream",
     "text": [
      "[2, 3, 4, 5, 6, 9]\n"
     ]
    }
   ],
   "source": [
    "lst = [1,2,3,4,5,6]\n",
    "num = 9\n",
    "\n",
    "print(list(lst,num))"
   ]
  },
  {
   "cell_type": "code",
   "execution_count": 20,
   "metadata": {},
   "outputs": [],
   "source": [
    "#other types of comprehension\n",
    "\n",
    "lst = [1,2,3,4,5,6]\n",
    "num = 9\n",
    "\n",
    "new_list = lst[1:] + [num] if lst else \"No list has been selected\""
   ]
  },
  {
   "cell_type": "code",
   "execution_count": 21,
   "metadata": {},
   "outputs": [
    {
     "name": "stdout",
     "output_type": "stream",
     "text": [
      "[2, 3, 4, 5, 6, 9]\n"
     ]
    }
   ],
   "source": [
    "print(new_list)"
   ]
  },
  {
   "cell_type": "markdown",
   "metadata": {},
   "source": [
    "# Intro to Decorators in Python"
   ]
  },
  {
   "cell_type": "code",
   "execution_count": 42,
   "metadata": {},
   "outputs": [
    {
     "name": "stdout",
     "output_type": "stream",
     "text": [
      "[2, 3, 4, 5, 6, 9]\n",
      "This is the time it took the function to run:  0.0\n"
     ]
    }
   ],
   "source": [
    "#timing\n",
    "\n",
    "import time\n",
    "\n",
    "start_time = time.time()\n",
    "\n",
    "lst = [1,2,3,4,5,6]\n",
    "num = 9\n",
    "\n",
    "def list(lst, num):\n",
    "    if lst == []:\n",
    "        return \"No list has been selected\"\n",
    "    else:\n",
    "        del lst[0]\n",
    "        lst.append(num)\n",
    "        return lst\n",
    "print(list(lst,num))\n",
    "end_time = time.time()\n",
    "\n",
    "total_time = end_time - start_time\n",
    "\n",
    "print(\"This is the time it took the function to run: \", total_time)"
   ]
  },
  {
   "cell_type": "code",
   "execution_count": 28,
   "metadata": {},
   "outputs": [
    {
     "name": "stdout",
     "output_type": "stream",
     "text": [
      "86.37238144874573\n"
     ]
    }
   ],
   "source": [
    "#timing\n",
    "\n",
    "import time\n",
    "\n",
    "start_time = time.time()\n",
    "\n",
    "result = sum([x for x in range(100000000)])\n",
    "\n",
    "end_time = time.time()\n",
    "\n",
    "total_time = end_time - start_time\n",
    "\n",
    "print(total_time)"
   ]
  },
  {
   "cell_type": "code",
   "execution_count": 29,
   "metadata": {},
   "outputs": [
    {
     "name": "stdout",
     "output_type": "stream",
     "text": [
      "4999999950000000\n"
     ]
    }
   ],
   "source": [
    "print(result)"
   ]
  },
  {
   "cell_type": "code",
   "execution_count": 30,
   "metadata": {},
   "outputs": [],
   "source": [
    "#Using more decorators\n",
    "\n",
    "from time import time\n",
    "from typing import Callable\n",
    "\n",
    "def speed_test(func: Callable) -> Callable:\n",
    "    def wrapper(*args, **kwargs) -> float:\n",
    "        start_time = time()\n",
    "        result = func(*args, **kwargs)\n",
    "        end_time = time()\n",
    "        time_elapsed = round(end_time - start_time, 2)\n",
    "        print(f\"This function took: {time_elapsed} seconds\")\n",
    "        return result\n",
    "    return wrapper\n",
    "        "
   ]
  },
  {
   "cell_type": "code",
   "execution_count": 38,
   "metadata": {},
   "outputs": [
    {
     "name": "stdout",
     "output_type": "stream",
     "text": [
      "This function took: 0.23 seconds\n",
      "499999500000\n"
     ]
    }
   ],
   "source": [
    "#Using the wrapper and speed_test\n",
    "@speed_test\n",
    "def sum_nums():\n",
    "    return sum(x for x in range(1000000))\n",
    "\n",
    "print(sum_nums())"
   ]
  },
  {
   "cell_type": "code",
   "execution_count": 40,
   "metadata": {},
   "outputs": [
    {
     "name": "stdout",
     "output_type": "stream",
     "text": [
      "This function took: 51.29 seconds\n",
      "4999999950000000\n"
     ]
    }
   ],
   "source": [
    "#for previous example\n",
    "@speed_test\n",
    "def sum_nums2():\n",
    "     return sum([x for x in range(100000000)])\n",
    "\n",
    "print(sum_nums2())"
   ]
  },
  {
   "cell_type": "code",
   "execution_count": null,
   "metadata": {},
   "outputs": [],
   "source": []
  }
 ],
 "metadata": {
  "kernelspec": {
   "display_name": "Python 3",
   "language": "python",
   "name": "python3"
  },
  "language_info": {
   "codemirror_mode": {
    "name": "ipython",
    "version": 3
   },
   "file_extension": ".py",
   "mimetype": "text/x-python",
   "name": "python",
   "nbconvert_exporter": "python",
   "pygments_lexer": "ipython3",
   "version": "3.7.1"
  }
 },
 "nbformat": 4,
 "nbformat_minor": 2
}
