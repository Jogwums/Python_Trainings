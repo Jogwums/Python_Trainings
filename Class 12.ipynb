{
 "cells": [
  {
   "cell_type": "markdown",
   "metadata": {},
   "source": [
    "# GUI in Python"
   ]
  },
  {
   "cell_type": "markdown",
   "metadata": {},
   "source": [
    "#A graphical user interface is a window on screen where applications display results \n",
    "# it gives the user the ability to click and interact with objects as well as widgets \n",
    "#unlike when working in the command prompt and unix shell, which are text-based interfaces\n",
    "#and involve text-navigation entirely with commands \n",
    "\n",
    "#Common gui libraries in python include\n",
    "\n",
    "#Kivy\n",
    "\n",
    "#tkinter\n",
    "\n",
    "#pyQt\n",
    "\n",
    "#WxPython\n",
    "\n",
    "#PyGUI\n",
    "\n",
    "#PySide"
   ]
  },
  {
   "cell_type": "markdown",
   "metadata": {},
   "source": [
    "Graphical user interface - Wikipediaen.wikipedia.org › wiki › Graphical_user_interface\n",
    "The graphical user interface (GUI /ˈdʒiːjuːaɪ/ gee-you-eye or /ˈɡuːi/) is a form of user interface that allows users to interact with electronic devices through graphical icons and audio indicator such as primary notation, instead of text-based user interfaces, typed command labels or text navigation."
   ]
  },
  {
   "cell_type": "markdown",
   "metadata": {},
   "source": [
    "# Tkinter"
   ]
  },
  {
   "cell_type": "code",
   "execution_count": null,
   "metadata": {},
   "outputs": [],
   "source": [
    "#Tk interface is a standard python interface to the Tk GUI toolkit and was formerly developed by SunLabs\n",
    "#both Tk and Tkinter are commonly used.\n",
    "\n",
    "#Most important module is the tkinter module and Tkconstants "
   ]
  },
  {
   "cell_type": "code",
   "execution_count": 3,
   "metadata": {},
   "outputs": [],
   "source": [
    "import tkinter\n",
    "from tkinter import *"
   ]
  },
  {
   "cell_type": "code",
   "execution_count": 6,
   "metadata": {},
   "outputs": [],
   "source": [
    "root = Tk()\n",
    "\n",
    "w= Label(root, text=\"Hello, world!\")\n",
    "w.pack()\n",
    "\n",
    "root.mainloop()"
   ]
  },
  {
   "cell_type": "code",
   "execution_count": 9,
   "metadata": {},
   "outputs": [],
   "source": [
    "class App(Frame):\n",
    "    def __init__(self, master=None):\n",
    "        Frame.__init__(self, master)\n",
    "        self.pack()\n",
    "    \n",
    "#create application\n",
    "\n",
    "myapp = App()\n",
    "\n",
    "#here are method calls to the window manager app in tkinter\n",
    "myapp.master.title(\"My-Empty App\")\n",
    "myapp.master.maxsize(1000, 400)\n",
    "\n",
    "#start the App\n",
    "\n",
    "myapp.mainloop()"
   ]
  },
  {
   "cell_type": "code",
   "execution_count": 11,
   "metadata": {},
   "outputs": [],
   "source": [
    "from tkinter import *\n",
    "\n",
    "class App(Frame):\n",
    "    def say_hi(self):\n",
    "        print(\"hi there, everyone!\")\n",
    "       \n",
    "    #create widgets in the window\n",
    "    def createWidgets(self):\n",
    "        self.QUIT = Button(self)\n",
    "        self.QUIT[\"text\"] = \"QUIT\" #button label\n",
    "        self.QUIT[\"fg\"] = \"red\" #font color\n",
    "        self.QUIT[\"command\"] = self.quit\n",
    "        \n",
    "        self.QUIT.pack({\"side\":\"left\"}) #the pack() method tells it to size itself to fit the text\n",
    "        \n",
    "        self.hi_there = Button(self)\n",
    "        self.hi_there[\"text\"] = \"Hello\"\n",
    "        self.hi_there[\"command\"] = self.say_hi\n",
    "        \n",
    "        self.hi_there.pack({\"side\":\"left\"})\n",
    "        \n",
    "    def __init__(self, master=None):\n",
    "        Frame.__init__(self, master)\n",
    "        self.pack()\n",
    "        self.createWidgets()\n",
    "\n",
    "root = Tk()\n",
    "app = App(master=root)\n",
    "app.mainloop() #runs the app, it is the tkinter event loop\n",
    "root.destroy() #cleans root object\n",
    "        "
   ]
  },
  {
   "cell_type": "code",
   "execution_count": 13,
   "metadata": {},
   "outputs": [],
   "source": [
    "\n",
    "class App:\n",
    "    def __init__(self, master):\n",
    "        frame = Frame(master)\n",
    "        frame.pack()\n",
    "        \n",
    "        self.button = Button(frame, text=\"QUIT\", fg=\"red\", command=frame.quit)\n",
    "        self.button.pack(side=LEFT)\n",
    "        \n",
    "        self.hi_there= Button(frame, text=\"Hello\", bg=\"blue\", command=self.say_hi)\n",
    "        self.hi_there.pack(side=LEFT)\n",
    "        \n",
    "    def say_hi(self):\n",
    "        print(\"hi there, everyone\")\n",
    "        \n",
    "root = Tk()\n",
    "app = App(root)\n",
    "root.mainloop()"
   ]
  },
  {
   "cell_type": "code",
   "execution_count": 15,
   "metadata": {},
   "outputs": [
    {
     "name": "stdout",
     "output_type": "stream",
     "text": [
      "input the year:2020\n",
      "input the month:04\n",
      "     April 2020\n",
      "Mo Tu We Th Fr Sa Su\n",
      "       1  2  3  4  5\n",
      " 6  7  8  9 10 11 12\n",
      "13 14 15 16 17 18 19\n",
      "20 21 22 23 24 25 26\n",
      "27 28 29 30\n",
      "\n"
     ]
    }
   ],
   "source": [
    "import calendar\n",
    "\n",
    "y = int(input(\"input the year:\"))\n",
    "\n",
    "m = int(input(\"input the month:\"))\n",
    "\n",
    "print(calendar.month(y, m))"
   ]
  },
  {
   "cell_type": "code",
   "execution_count": 9,
   "metadata": {},
   "outputs": [],
   "source": [
    "#GUI Calculator \n",
    "\n",
    "import tkinter\n",
    "from tkinter import *\n",
    "\n",
    "def iCalc(source, side):\n",
    "    storeObj = Frame(source, borderwidth=4, bd=4, bg=\"powder blue\")\n",
    "    storeObj.pack(side=side, expand=YES, fill=BOTH)\n",
    "    return storeObj\n",
    "\n",
    "def button(source, side, text, command=None):\n",
    "    storeObj = Button(source, text=text, command=command)\n",
    "    storeObj.pack(side=side, expand=YES, fill=BOTH)\n",
    "    return storeObj\n",
    "\n",
    "class app(Frame):\n",
    "    def __init__(self):\n",
    "        Frame.__init__(self)\n",
    "        self.option_add('*font', 'arial 20 bold')\n",
    "        self.pack(expand=YES, fill=BOTH)\n",
    "        self.master.title('GUI Calculator')\n",
    "        \n",
    "        #Add a display widget \n",
    "        display = StringVar()\n",
    "        Entry(self, relief=RIDGE, textvariable=display, justify='right', bd=30, bg=\"powder blue\").pack(side=TOP, expand=YES, fill=BOTH)\n",
    "        \n",
    "        #add a clear button widget\n",
    "        for clearButton in ([\"C\"]):\n",
    "            erase = iCalc(self, TOP)\n",
    "            for ichar in clearButton:\n",
    "                button(erase, LEFT, ichar, lambda storeObj=display, q=ichar:storeObj.set(''))\n",
    "        \n",
    "        \n",
    "        #add a numberpad \n",
    "        for numButton in (\"789/\", \"456*\", \"123-\", \"0.+\"):\n",
    "            FunctionNum = iCalc(self, TOP)\n",
    "            for iEquals in numButton:\n",
    "                button(FunctionNum, LEFT, iEquals, lambda storeObj=display, q=iEquals: storeObj.set(storeObj.get() + q))\n",
    "        \n",
    "#start the gui\n",
    "if __name__ == '__main__':\n",
    "    app().mainloop() "
   ]
  },
  {
   "cell_type": "code",
   "execution_count": null,
   "metadata": {},
   "outputs": [],
   "source": []
  }
 ],
 "metadata": {
  "kernelspec": {
   "display_name": "Python 3",
   "language": "python",
   "name": "python3"
  },
  "language_info": {
   "codemirror_mode": {
    "name": "ipython",
    "version": 3
   },
   "file_extension": ".py",
   "mimetype": "text/x-python",
   "name": "python",
   "nbconvert_exporter": "python",
   "pygments_lexer": "ipython3",
   "version": "3.7.1"
  }
 },
 "nbformat": 4,
 "nbformat_minor": 2
}
